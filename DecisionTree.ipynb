{
  "nbformat": 4,
  "nbformat_minor": 0,
  "metadata": {
    "colab": {
      "name": "DecisionTree.ipynb",
      "provenance": []
    },
    "kernelspec": {
      "name": "python3",
      "display_name": "Python 3"
    }
  },
  "cells": [
    {
      "cell_type": "markdown",
      "metadata": {
        "id": "xpzAIXE0-1MJ"
      },
      "source": [
        "# Decision Trees\n",
        "Jose Alberto Gonzalez Arteaga A01038061"
      ]
    },
    {
      "cell_type": "markdown",
      "metadata": {
        "id": "7C3E4zYxDkE9"
      },
      "source": [
        "## Configs"
      ]
    },
    {
      "cell_type": "code",
      "metadata": {
        "id": "H6e0AXZA-0vX"
      },
      "source": [
        "#Python >= 3.5 required\n",
        "import sys\n",
        "assert sys.version_info >= (3,5)\n",
        "#Scikit-Learn >= 0.20 is required\n",
        "import sklearn\n",
        "assert sklearn.__version__ >=\"0.20\"\n",
        "#imports\n",
        "import numpy as np\n",
        "import pandas as pd\n",
        "import matplotlib as mpl\n",
        "import matplotlib.pyplot as plt\n",
        "from sklearn.model_selection import train_test_split\n",
        "from graphviz import Source\n",
        "from sklearn.tree import export_graphviz\n",
        "from sklearn.tree import DecisionTreeClassifier\n",
        "from matplotlib.colors import ListedColormap\n",
        "from sklearn.linear_model import LogisticRegression\n",
        "import os"
      ],
      "execution_count": null,
      "outputs": []
    },
    {
      "cell_type": "code",
      "metadata": {
        "id": "VZRugjAT_cRz"
      },
      "source": [
        "#Configs dirs for images\n",
        "mpl.rc('axes', labelsize=14)\n",
        "mpl.rc('xtick', labelsize=12)\n",
        "mpl.rc('ytick', labelsize=12)\n",
        "PROJECT_ROOT_DIR = \".\"\n",
        "CHAPTER_ID = \"decision_trees\"\n",
        "IMAGES_PATH = os.path.join(PROJECT_ROOT_DIR, \"images\", CHAPTER_ID,)\n",
        "os.makedirs(IMAGES_PATH, exist_ok=True)"
      ],
      "execution_count": null,
      "outputs": []
    },
    {
      "cell_type": "code",
      "metadata": {
        "id": "QpXLLrUHAvId"
      },
      "source": [
        "#save fig functions on the directory\n",
        "def save_fig(fig_id, tight_layout=True, fig_extension=\"png\", resolution=300):\n",
        "  path = os.path.join(IMAGES_PATH, fig_id + \".\" + fig_extension)\n",
        "  print(\"Saving figure\", fig_id)\n",
        "  if tight_layout:\n",
        "    plt.tight_layout()\n",
        "  plt.savefig(path, format=fig_extension, dpi=resolution)"
      ],
      "execution_count": null,
      "outputs": []
    },
    {
      "cell_type": "code",
      "metadata": {
        "id": "3jSmz6h1u7Zg"
      },
      "source": [
        "#Batch Gradient Descent Algorithm\n",
        "def sigmoid(x):\n",
        "  return 1.0 / (1 + np.exp(-x))\n",
        "\n",
        "def lr_hypothesis(x, theta):\n",
        "  return np.dot(x,theta)\n",
        "\n",
        "#return hb_opt => \n",
        "def batchGradientDescent(X, y, b0 = 0.5, ALPHA = 0.25, max_it=5000, \n",
        "                         threshold = 1 * pow(10,-4)):\n",
        "  \n",
        "  #prepare data\n",
        "  X = X.values\n",
        "  y = y.values\n",
        "  \n",
        "  zm, zn = X.shape\n",
        "  z = np.ones(zm)\n",
        "  z = z.reshape(zm, 1)\n",
        "  X = np.append(z,X,axis=1)\n",
        "\n",
        "  m, n = X.shape\n",
        "  theta = np.zeros(n) * b0\n",
        "  theta = theta.reshape(n,1)\n",
        "  y = y.reshape(-1,1)\n",
        "  diff = 1\n",
        "  j = 0\n",
        "  \n",
        "  while j < max_it and diff > threshold:\n",
        "    last_t = theta\n",
        "    infunc1 = sigmoid(lr_hypothesis(X, theta)) - y\n",
        "    gradient = np.dot(X.T, infunc1) / m\n",
        "    theta = theta - (ALPHA / m) * gradient\n",
        "    diff = np.linalg.norm(last_t-theta)\n",
        "    j+=1\n",
        "  return theta, j"
      ],
      "execution_count": null,
      "outputs": []
    },
    {
      "cell_type": "code",
      "metadata": {
        "id": "AwTBdy2zvA9P"
      },
      "source": [
        "#Testing functions\n",
        "\n",
        "#return if classify in 1 or 0.\n",
        "def classify(x):\n",
        "  return int(x > 0.5)\n",
        "\n",
        "#compare data\n",
        "def compare(y_hat, y):\n",
        "  return np.where(y_hat == y, 0, 1)\n",
        "\n",
        "#return error\n",
        "def error(y_hat, y, T):\n",
        "  return 1 / T * sum(compare(y_hat, y))\n",
        "\n",
        "#Apply model with values to predict probability of 1.\n",
        "def predict(model, X):\n",
        "  X = X.values\n",
        "  X = np.insert(X, 0, 1.0)\n",
        "  return sigmoid(np.dot(model.T, X))"
      ],
      "execution_count": null,
      "outputs": []
    },
    {
      "cell_type": "markdown",
      "metadata": {
        "id": "MAH53HTQD97d"
      },
      "source": [
        "## Iris dataset\n"
      ]
    },
    {
      "cell_type": "code",
      "metadata": {
        "id": "JkW9PiY_Byev"
      },
      "source": [
        "#import dataset and transform to csv\n",
        "from sklearn.datasets import load_iris\n",
        "iris = load_iris()\n",
        "X = iris.data[:, 2:] # work only with petal length and width\n",
        "y = iris.target"
      ],
      "execution_count": null,
      "outputs": []
    },
    {
      "cell_type": "code",
      "metadata": {
        "id": "fiZRiKPx-9ui"
      },
      "source": [
        "#Split data for traning and testing\n",
        "X_train, X_test, y_train, y_test = train_test_split(X, y, test_size=0.33, random_state=42)"
      ],
      "execution_count": null,
      "outputs": []
    },
    {
      "cell_type": "code",
      "metadata": {
        "colab": {
          "base_uri": "https://localhost:8080/",
          "height": 441
        },
        "id": "mhwIPoUeFTow",
        "outputId": "e8c52840-e108-4c5f-a45a-17b208fe62a4"
      },
      "source": [
        "#Decision tree fit with the training data\n",
        "tree_clf = DecisionTreeClassifier(max_depth = 2, random_state=0)\n",
        "tree_clf = tree_clf.fit(X_train, y_train)\n",
        "\n",
        "#Create tree view\n",
        "export_graphviz(\n",
        "    tree_clf,\n",
        "    out_file = os.path.join(IMAGES_PATH, \"iris_tree.dot\"),\n",
        "    feature_names = iris.feature_names[2:],\n",
        "    class_names = iris.target_names,\n",
        "    rounded=True,\n",
        "    filled=True\n",
        ")\n",
        "\n",
        "Source.from_file(os.path.join(IMAGES_PATH, \"iris_tree.dot\"))"
      ],
      "execution_count": null,
      "outputs": [
        {
          "output_type": "execute_result",
          "data": {
            "text/plain": [
              "<graphviz.files.Source at 0x7f265e65d510>"
            ],
            "image/svg+xml": "<?xml version=\"1.0\" encoding=\"UTF-8\" standalone=\"no\"?>\n<!DOCTYPE svg PUBLIC \"-//W3C//DTD SVG 1.1//EN\"\n \"http://www.w3.org/Graphics/SVG/1.1/DTD/svg11.dtd\">\n<!-- Generated by graphviz version 2.40.1 (20161225.0304)\n -->\n<!-- Title: Tree Pages: 1 -->\n<svg width=\"368pt\" height=\"314pt\"\n viewBox=\"0.00 0.00 368.00 314.00\" xmlns=\"http://www.w3.org/2000/svg\" xmlns:xlink=\"http://www.w3.org/1999/xlink\">\n<g id=\"graph0\" class=\"graph\" transform=\"scale(1 1) rotate(0) translate(4 310)\">\n<title>Tree</title>\n<polygon fill=\"#ffffff\" stroke=\"transparent\" points=\"-4,4 -4,-310 364,-310 364,4 -4,4\"/>\n<!-- 0 -->\n<g id=\"node1\" class=\"node\">\n<title>0</title>\n<path fill=\"#fcfffd\" stroke=\"#000000\" d=\"M212.5,-306C212.5,-306 74.5,-306 74.5,-306 68.5,-306 62.5,-300 62.5,-294 62.5,-294 62.5,-235 62.5,-235 62.5,-229 68.5,-223 74.5,-223 74.5,-223 212.5,-223 212.5,-223 218.5,-223 224.5,-229 224.5,-235 224.5,-235 224.5,-294 224.5,-294 224.5,-300 218.5,-306 212.5,-306\"/>\n<text text-anchor=\"middle\" x=\"143.5\" y=\"-290.8\" font-family=\"Helvetica,sans-Serif\" font-size=\"14.00\" fill=\"#000000\">petal width (cm) &lt;= 0.8</text>\n<text text-anchor=\"middle\" x=\"143.5\" y=\"-275.8\" font-family=\"Helvetica,sans-Serif\" font-size=\"14.00\" fill=\"#000000\">gini = 0.666</text>\n<text text-anchor=\"middle\" x=\"143.5\" y=\"-260.8\" font-family=\"Helvetica,sans-Serif\" font-size=\"14.00\" fill=\"#000000\">samples = 100</text>\n<text text-anchor=\"middle\" x=\"143.5\" y=\"-245.8\" font-family=\"Helvetica,sans-Serif\" font-size=\"14.00\" fill=\"#000000\">value = [31, 35, 34]</text>\n<text text-anchor=\"middle\" x=\"143.5\" y=\"-230.8\" font-family=\"Helvetica,sans-Serif\" font-size=\"14.00\" fill=\"#000000\">class = versicolor</text>\n</g>\n<!-- 1 -->\n<g id=\"node2\" class=\"node\">\n<title>1</title>\n<path fill=\"#e58139\" stroke=\"#000000\" d=\"M111,-179.5C111,-179.5 12,-179.5 12,-179.5 6,-179.5 0,-173.5 0,-167.5 0,-167.5 0,-123.5 0,-123.5 0,-117.5 6,-111.5 12,-111.5 12,-111.5 111,-111.5 111,-111.5 117,-111.5 123,-117.5 123,-123.5 123,-123.5 123,-167.5 123,-167.5 123,-173.5 117,-179.5 111,-179.5\"/>\n<text text-anchor=\"middle\" x=\"61.5\" y=\"-164.3\" font-family=\"Helvetica,sans-Serif\" font-size=\"14.00\" fill=\"#000000\">gini = 0.0</text>\n<text text-anchor=\"middle\" x=\"61.5\" y=\"-149.3\" font-family=\"Helvetica,sans-Serif\" font-size=\"14.00\" fill=\"#000000\">samples = 31</text>\n<text text-anchor=\"middle\" x=\"61.5\" y=\"-134.3\" font-family=\"Helvetica,sans-Serif\" font-size=\"14.00\" fill=\"#000000\">value = [31, 0, 0]</text>\n<text text-anchor=\"middle\" x=\"61.5\" y=\"-119.3\" font-family=\"Helvetica,sans-Serif\" font-size=\"14.00\" fill=\"#000000\">class = setosa</text>\n</g>\n<!-- 0&#45;&gt;1 -->\n<g id=\"edge1\" class=\"edge\">\n<title>0&#45;&gt;1</title>\n<path fill=\"none\" stroke=\"#000000\" d=\"M114.8204,-222.8796C107.0917,-211.6636 98.7191,-199.5131 90.9492,-188.2372\"/>\n<polygon fill=\"#000000\" stroke=\"#000000\" points=\"93.7018,-186.0634 85.1456,-179.8149 87.9377,-190.0353 93.7018,-186.0634\"/>\n<text text-anchor=\"middle\" x=\"80.6196\" y=\"-200.7018\" font-family=\"Helvetica,sans-Serif\" font-size=\"14.00\" fill=\"#000000\">True</text>\n</g>\n<!-- 2 -->\n<g id=\"node3\" class=\"node\">\n<title>2</title>\n<path fill=\"#f9fefb\" stroke=\"#000000\" d=\"M299.5,-187C299.5,-187 153.5,-187 153.5,-187 147.5,-187 141.5,-181 141.5,-175 141.5,-175 141.5,-116 141.5,-116 141.5,-110 147.5,-104 153.5,-104 153.5,-104 299.5,-104 299.5,-104 305.5,-104 311.5,-110 311.5,-116 311.5,-116 311.5,-175 311.5,-175 311.5,-181 305.5,-187 299.5,-187\"/>\n<text text-anchor=\"middle\" x=\"226.5\" y=\"-171.8\" font-family=\"Helvetica,sans-Serif\" font-size=\"14.00\" fill=\"#000000\">petal width (cm) &lt;= 1.75</text>\n<text text-anchor=\"middle\" x=\"226.5\" y=\"-156.8\" font-family=\"Helvetica,sans-Serif\" font-size=\"14.00\" fill=\"#000000\">gini = 0.5</text>\n<text text-anchor=\"middle\" x=\"226.5\" y=\"-141.8\" font-family=\"Helvetica,sans-Serif\" font-size=\"14.00\" fill=\"#000000\">samples = 69</text>\n<text text-anchor=\"middle\" x=\"226.5\" y=\"-126.8\" font-family=\"Helvetica,sans-Serif\" font-size=\"14.00\" fill=\"#000000\">value = [0, 35, 34]</text>\n<text text-anchor=\"middle\" x=\"226.5\" y=\"-111.8\" font-family=\"Helvetica,sans-Serif\" font-size=\"14.00\" fill=\"#000000\">class = versicolor</text>\n</g>\n<!-- 0&#45;&gt;2 -->\n<g id=\"edge2\" class=\"edge\">\n<title>0&#45;&gt;2</title>\n<path fill=\"none\" stroke=\"#000000\" d=\"M172.5294,-222.8796C178.6855,-214.0534 185.2451,-204.6485 191.5936,-195.5466\"/>\n<polygon fill=\"#000000\" stroke=\"#000000\" points=\"194.4967,-197.5024 197.3467,-187.2981 188.7552,-193.4978 194.4967,-197.5024\"/>\n<text text-anchor=\"middle\" x=\"201.7331\" y=\"-208.2103\" font-family=\"Helvetica,sans-Serif\" font-size=\"14.00\" fill=\"#000000\">False</text>\n</g>\n<!-- 3 -->\n<g id=\"node4\" class=\"node\">\n<title>3</title>\n<path fill=\"#50e890\" stroke=\"#000000\" d=\"M206.5,-68C206.5,-68 102.5,-68 102.5,-68 96.5,-68 90.5,-62 90.5,-56 90.5,-56 90.5,-12 90.5,-12 90.5,-6 96.5,0 102.5,0 102.5,0 206.5,0 206.5,0 212.5,0 218.5,-6 218.5,-12 218.5,-12 218.5,-56 218.5,-56 218.5,-62 212.5,-68 206.5,-68\"/>\n<text text-anchor=\"middle\" x=\"154.5\" y=\"-52.8\" font-family=\"Helvetica,sans-Serif\" font-size=\"14.00\" fill=\"#000000\">gini = 0.188</text>\n<text text-anchor=\"middle\" x=\"154.5\" y=\"-37.8\" font-family=\"Helvetica,sans-Serif\" font-size=\"14.00\" fill=\"#000000\">samples = 38</text>\n<text text-anchor=\"middle\" x=\"154.5\" y=\"-22.8\" font-family=\"Helvetica,sans-Serif\" font-size=\"14.00\" fill=\"#000000\">value = [0, 34, 4]</text>\n<text text-anchor=\"middle\" x=\"154.5\" y=\"-7.8\" font-family=\"Helvetica,sans-Serif\" font-size=\"14.00\" fill=\"#000000\">class = versicolor</text>\n</g>\n<!-- 2&#45;&gt;3 -->\n<g id=\"edge3\" class=\"edge\">\n<title>2&#45;&gt;3</title>\n<path fill=\"none\" stroke=\"#000000\" d=\"M199.6899,-103.9815C193.9331,-95.0666 187.8404,-85.6313 182.0559,-76.6734\"/>\n<polygon fill=\"#000000\" stroke=\"#000000\" points=\"184.9904,-74.7658 176.6254,-68.2637 179.1099,-78.5631 184.9904,-74.7658\"/>\n</g>\n<!-- 4 -->\n<g id=\"node5\" class=\"node\">\n<title>4</title>\n<path fill=\"#8540e6\" stroke=\"#000000\" d=\"M348,-68C348,-68 249,-68 249,-68 243,-68 237,-62 237,-56 237,-56 237,-12 237,-12 237,-6 243,0 249,0 249,0 348,0 348,0 354,0 360,-6 360,-12 360,-12 360,-56 360,-56 360,-62 354,-68 348,-68\"/>\n<text text-anchor=\"middle\" x=\"298.5\" y=\"-52.8\" font-family=\"Helvetica,sans-Serif\" font-size=\"14.00\" fill=\"#000000\">gini = 0.062</text>\n<text text-anchor=\"middle\" x=\"298.5\" y=\"-37.8\" font-family=\"Helvetica,sans-Serif\" font-size=\"14.00\" fill=\"#000000\">samples = 31</text>\n<text text-anchor=\"middle\" x=\"298.5\" y=\"-22.8\" font-family=\"Helvetica,sans-Serif\" font-size=\"14.00\" fill=\"#000000\">value = [0, 1, 30]</text>\n<text text-anchor=\"middle\" x=\"298.5\" y=\"-7.8\" font-family=\"Helvetica,sans-Serif\" font-size=\"14.00\" fill=\"#000000\">class = virginica</text>\n</g>\n<!-- 2&#45;&gt;4 -->\n<g id=\"edge4\" class=\"edge\">\n<title>2&#45;&gt;4</title>\n<path fill=\"none\" stroke=\"#000000\" d=\"M253.3101,-103.9815C259.0669,-95.0666 265.1596,-85.6313 270.9441,-76.6734\"/>\n<polygon fill=\"#000000\" stroke=\"#000000\" points=\"273.8901,-78.5631 276.3746,-68.2637 268.0096,-74.7658 273.8901,-78.5631\"/>\n</g>\n</g>\n</svg>\n"
          },
          "metadata": {
            "tags": []
          },
          "execution_count": 314
        }
      ]
    },
    {
      "cell_type": "code",
      "metadata": {
        "colab": {
          "base_uri": "https://localhost:8080/"
        },
        "id": "EsXIMmp7A6KQ",
        "outputId": "8eab3446-103b-46fb-c6b4-2d04472d1879"
      },
      "source": [
        "#Calculate Accuracy: correct predictions / total number of data points\n",
        "score = tree_clf.score(X_test, y_test)\n",
        "print(\"Score of iris dataset with Decision tree model: \", score)"
      ],
      "execution_count": null,
      "outputs": [
        {
          "output_type": "stream",
          "text": [
            "Score of iris dataset with Decision tree model:  0.98\n"
          ],
          "name": "stdout"
        }
      ]
    },
    {
      "cell_type": "code",
      "metadata": {
        "colab": {
          "base_uri": "https://localhost:8080/",
          "height": 314
        },
        "id": "eRzn3cwai54t",
        "outputId": "d4418d03-e796-4256-f3d2-9c97230fc0ba"
      },
      "source": [
        "#Visualization by each split: need to work only with binary classifications\n",
        "def plot_decision_boundary(clf, X, y, axes=[0, 7.5, 0, 3], iris=True, legend=False, plot_training=True):\n",
        "  x1s = np.linspace(axes[0], axes[1], 100)\n",
        "  x2s = np.linspace(axes[2], axes[3], 100)\n",
        "  x1, x2 = np.meshgrid(x1s, x2s)\n",
        "  X_new = np.c_[x1.ravel(), x2.ravel()]\n",
        "  y_pred = clf.predict(X_new).reshape(x1.shape)\n",
        "  custom_cmap = ListedColormap(['#fafab0','#9898ff','#a0faa0'])\n",
        "  plt.contourf(x1, x2, y_pred, alpha=0.3, cmap=custom_cmap)\n",
        "  if not iris:\n",
        "    custom_cmap2 = ListedColormap(['#7d7d58','#4c4c7f','#507d50'])\n",
        "    plt.contour(x1, x2, y_pred, cmap=custom_cmap2, alpha=0.8)\n",
        "  if plot_training:\n",
        "    plt.plot(X[:, 0][y==0], X[:, 1][y==0], \"yo\", label=\"Iris setosa\")\n",
        "    plt.plot(X[:, 0][y==1], X[:, 1][y==1], \"bs\", label=\"Iris versicolor\")\n",
        "    plt.plot(X[:, 0][y==2], X[:, 1][y==2], \"g^\", label=\"Iris virginica\")\n",
        "    plt.axis(axes)\n",
        "  if iris:\n",
        "    plt.xlabel(\"Petal length\", fontsize=14)\n",
        "    plt.ylabel(\"Petal width\", fontsize=14)\n",
        "  else:\n",
        "    plt.xlabel(r\"$x_1$\", fontsize=18)\n",
        "    plt.ylabel(r\"$x_2$\", fontsize=18, rotation=0)\n",
        "  if legend:\n",
        "    plt.legend(loc=\"lower right\", fontsize=14)\n",
        "\n",
        "plt.figure(figsize=(8, 4))\n",
        "plot_decision_boundary(tree_clf, X_test, y_test)\n",
        "plt.plot([2.45, 2.45], [0, 3], \"k-\", linewidth=2)\n",
        "plt.plot([2.45, 7.5], [1.75, 1.75], \"k--\", linewidth=2)\n",
        "plt.text(1.40, 1.0, \"Depth=0\", fontsize=15)\n",
        "plt.text(3.2, 1.80, \"Depth=1\", fontsize=13)\n",
        "save_fig(\"decision_tree_decision_boundaries_plot\")\n",
        "plt.show()"
      ],
      "execution_count": null,
      "outputs": [
        {
          "output_type": "stream",
          "text": [
            "Saving figure decision_tree_decision_boundaries_plot\n"
          ],
          "name": "stdout"
        },
        {
          "output_type": "display_data",
          "data": {
            "image/png": "[encoded data removed]",
            "text/plain": [
              "<Figure size 576x288 with 1 Axes>"
            ]
          },
          "metadata": {
            "tags": [],
            "needs_background": "light"
          }
        }
      ]
    },
    {
      "cell_type": "code",
      "metadata": {
        "colab": {
          "base_uri": "https://localhost:8080/"
        },
        "id": "uyckqE0GyUf7",
        "outputId": "d032893e-bc81-4851-9e04-e9b4e0064d21"
      },
      "source": [
        "print(\"Iris Figs generated in: \", IMAGES_PATH)"
      ],
      "execution_count": null,
      "outputs": [
        {
          "output_type": "stream",
          "text": [
            "Iris Figs generated in:  ./images/decision_trees\n"
          ],
          "name": "stdout"
        }
      ]
    },
    {
      "cell_type": "markdown",
      "metadata": {
        "id": "JeKhNHycFVV8"
      },
      "source": [
        "## Wine dataset\n"
      ]
    },
    {
      "cell_type": "code",
      "metadata": {
        "id": "vsFriFRiGnhd"
      },
      "source": [
        "#import dataset and transform to csv\n",
        "from sklearn.datasets import load_wine\n",
        "wine = load_wine()\n",
        "df_wine = pd.DataFrame(data=wine['data'], columns=wine['feature_names'])\n",
        "df_wine['target'] = wine['target']"
      ],
      "execution_count": null,
      "outputs": []
    },
    {
      "cell_type": "code",
      "metadata": {
        "colab": {
          "base_uri": "https://localhost:8080/",
          "height": 215
        },
        "id": "LucOkjhooNm6",
        "outputId": "88c2516e-0a93-490f-da92-5cfb8e596ce5"
      },
      "source": [
        "df_wine.sample(5)"
      ],
      "execution_count": null,
      "outputs": [
        {
          "output_type": "execute_result",
          "data": {
            "text/html": [
              "<div>\n",
              "<style scoped>\n",
              "    .dataframe tbody tr th:only-of-type {\n",
              "        vertical-align: middle;\n",
              "    }\n",
              "\n",
              "    .dataframe tbody tr th {\n",
              "        vertical-align: top;\n",
              "    }\n",
              "\n",
              "    .dataframe thead th {\n",
              "        text-align: right;\n",
              "    }\n",
              "</style>\n",
              "<table border=\"1\" class=\"dataframe\">\n",
              "  <thead>\n",
              "    <tr style=\"text-align: right;\">\n",
              "      <th></th>\n",
              "      <th>alcohol</th>\n",
              "      <th>malic_acid</th>\n",
              "      <th>ash</th>\n",
              "      <th>alcalinity_of_ash</th>\n",
              "      <th>magnesium</th>\n",
              "      <th>total_phenols</th>\n",
              "      <th>flavanoids</th>\n",
              "      <th>nonflavanoid_phenols</th>\n",
              "      <th>proanthocyanins</th>\n",
              "      <th>color_intensity</th>\n",
              "      <th>hue</th>\n",
              "      <th>od280/od315_of_diluted_wines</th>\n",
              "      <th>proline</th>\n",
              "      <th>target</th>\n",
              "    </tr>\n",
              "  </thead>\n",
              "  <tbody>\n",
              "    <tr>\n",
              "      <th>108</th>\n",
              "      <td>12.22</td>\n",
              "      <td>1.29</td>\n",
              "      <td>1.94</td>\n",
              "      <td>19.0</td>\n",
              "      <td>92.0</td>\n",
              "      <td>2.36</td>\n",
              "      <td>2.04</td>\n",
              "      <td>0.39</td>\n",
              "      <td>2.08</td>\n",
              "      <td>2.70</td>\n",
              "      <td>0.86</td>\n",
              "      <td>3.02</td>\n",
              "      <td>312.0</td>\n",
              "      <td>1</td>\n",
              "    </tr>\n",
              "    <tr>\n",
              "      <th>142</th>\n",
              "      <td>13.52</td>\n",
              "      <td>3.17</td>\n",
              "      <td>2.72</td>\n",
              "      <td>23.5</td>\n",
              "      <td>97.0</td>\n",
              "      <td>1.55</td>\n",
              "      <td>0.52</td>\n",
              "      <td>0.50</td>\n",
              "      <td>0.55</td>\n",
              "      <td>4.35</td>\n",
              "      <td>0.89</td>\n",
              "      <td>2.06</td>\n",
              "      <td>520.0</td>\n",
              "      <td>2</td>\n",
              "    </tr>\n",
              "    <tr>\n",
              "      <th>4</th>\n",
              "      <td>13.24</td>\n",
              "      <td>2.59</td>\n",
              "      <td>2.87</td>\n",
              "      <td>21.0</td>\n",
              "      <td>118.0</td>\n",
              "      <td>2.80</td>\n",
              "      <td>2.69</td>\n",
              "      <td>0.39</td>\n",
              "      <td>1.82</td>\n",
              "      <td>4.32</td>\n",
              "      <td>1.04</td>\n",
              "      <td>2.93</td>\n",
              "      <td>735.0</td>\n",
              "      <td>0</td>\n",
              "    </tr>\n",
              "    <tr>\n",
              "      <th>25</th>\n",
              "      <td>13.05</td>\n",
              "      <td>2.05</td>\n",
              "      <td>3.22</td>\n",
              "      <td>25.0</td>\n",
              "      <td>124.0</td>\n",
              "      <td>2.63</td>\n",
              "      <td>2.68</td>\n",
              "      <td>0.47</td>\n",
              "      <td>1.92</td>\n",
              "      <td>3.58</td>\n",
              "      <td>1.13</td>\n",
              "      <td>3.20</td>\n",
              "      <td>830.0</td>\n",
              "      <td>0</td>\n",
              "    </tr>\n",
              "    <tr>\n",
              "      <th>10</th>\n",
              "      <td>14.10</td>\n",
              "      <td>2.16</td>\n",
              "      <td>2.30</td>\n",
              "      <td>18.0</td>\n",
              "      <td>105.0</td>\n",
              "      <td>2.95</td>\n",
              "      <td>3.32</td>\n",
              "      <td>0.22</td>\n",
              "      <td>2.38</td>\n",
              "      <td>5.75</td>\n",
              "      <td>1.25</td>\n",
              "      <td>3.17</td>\n",
              "      <td>1510.0</td>\n",
              "      <td>0</td>\n",
              "    </tr>\n",
              "  </tbody>\n",
              "</table>\n",
              "</div>"
            ],
            "text/plain": [
              "     alcohol  malic_acid   ash  ...  od280/od315_of_diluted_wines  proline  target\n",
              "108    12.22        1.29  1.94  ...                          3.02    312.0       1\n",
              "142    13.52        3.17  2.72  ...                          2.06    520.0       2\n",
              "4      13.24        2.59  2.87  ...                          2.93    735.0       0\n",
              "25     13.05        2.05  3.22  ...                          3.20    830.0       0\n",
              "10     14.10        2.16  2.30  ...                          3.17   1510.0       0\n",
              "\n",
              "[5 rows x 14 columns]"
            ]
          },
          "metadata": {
            "tags": []
          },
          "execution_count": 319
        }
      ]
    },
    {
      "cell_type": "code",
      "metadata": {
        "colab": {
          "base_uri": "https://localhost:8080/",
          "height": 304
        },
        "id": "ERIeoNtboTfj",
        "outputId": "e5d0b10d-869c-4d11-ce82-29bfcbc839c7"
      },
      "source": [
        "df_wine.describe()"
      ],
      "execution_count": null,
      "outputs": [
        {
          "output_type": "execute_result",
          "data": {
            "text/html": [
              "<div>\n",
              "<style scoped>\n",
              "    .dataframe tbody tr th:only-of-type {\n",
              "        vertical-align: middle;\n",
              "    }\n",
              "\n",
              "    .dataframe tbody tr th {\n",
              "        vertical-align: top;\n",
              "    }\n",
              "\n",
              "    .dataframe thead th {\n",
              "        text-align: right;\n",
              "    }\n",
              "</style>\n",
              "<table border=\"1\" class=\"dataframe\">\n",
              "  <thead>\n",
              "    <tr style=\"text-align: right;\">\n",
              "      <th></th>\n",
              "      <th>alcohol</th>\n",
              "      <th>malic_acid</th>\n",
              "      <th>ash</th>\n",
              "      <th>alcalinity_of_ash</th>\n",
              "      <th>magnesium</th>\n",
              "      <th>total_phenols</th>\n",
              "      <th>flavanoids</th>\n",
              "      <th>nonflavanoid_phenols</th>\n",
              "      <th>proanthocyanins</th>\n",
              "      <th>color_intensity</th>\n",
              "      <th>hue</th>\n",
              "      <th>od280/od315_of_diluted_wines</th>\n",
              "      <th>proline</th>\n",
              "      <th>target</th>\n",
              "    </tr>\n",
              "  </thead>\n",
              "  <tbody>\n",
              "    <tr>\n",
              "      <th>count</th>\n",
              "      <td>178.000000</td>\n",
              "      <td>178.000000</td>\n",
              "      <td>178.000000</td>\n",
              "      <td>178.000000</td>\n",
              "      <td>178.000000</td>\n",
              "      <td>178.000000</td>\n",
              "      <td>178.000000</td>\n",
              "      <td>178.000000</td>\n",
              "      <td>178.000000</td>\n",
              "      <td>178.000000</td>\n",
              "      <td>178.000000</td>\n",
              "      <td>178.000000</td>\n",
              "      <td>178.000000</td>\n",
              "      <td>178.000000</td>\n",
              "    </tr>\n",
              "    <tr>\n",
              "      <th>mean</th>\n",
              "      <td>13.000618</td>\n",
              "      <td>2.336348</td>\n",
              "      <td>2.366517</td>\n",
              "      <td>19.494944</td>\n",
              "      <td>99.741573</td>\n",
              "      <td>2.295112</td>\n",
              "      <td>2.029270</td>\n",
              "      <td>0.361854</td>\n",
              "      <td>1.590899</td>\n",
              "      <td>5.058090</td>\n",
              "      <td>0.957449</td>\n",
              "      <td>2.611685</td>\n",
              "      <td>746.893258</td>\n",
              "      <td>0.938202</td>\n",
              "    </tr>\n",
              "    <tr>\n",
              "      <th>std</th>\n",
              "      <td>0.811827</td>\n",
              "      <td>1.117146</td>\n",
              "      <td>0.274344</td>\n",
              "      <td>3.339564</td>\n",
              "      <td>14.282484</td>\n",
              "      <td>0.625851</td>\n",
              "      <td>0.998859</td>\n",
              "      <td>0.124453</td>\n",
              "      <td>0.572359</td>\n",
              "      <td>2.318286</td>\n",
              "      <td>0.228572</td>\n",
              "      <td>0.709990</td>\n",
              "      <td>314.907474</td>\n",
              "      <td>0.775035</td>\n",
              "    </tr>\n",
              "    <tr>\n",
              "      <th>min</th>\n",
              "      <td>11.030000</td>\n",
              "      <td>0.740000</td>\n",
              "      <td>1.360000</td>\n",
              "      <td>10.600000</td>\n",
              "      <td>70.000000</td>\n",
              "      <td>0.980000</td>\n",
              "      <td>0.340000</td>\n",
              "      <td>0.130000</td>\n",
              "      <td>0.410000</td>\n",
              "      <td>1.280000</td>\n",
              "      <td>0.480000</td>\n",
              "      <td>1.270000</td>\n",
              "      <td>278.000000</td>\n",
              "      <td>0.000000</td>\n",
              "    </tr>\n",
              "    <tr>\n",
              "      <th>25%</th>\n",
              "      <td>12.362500</td>\n",
              "      <td>1.602500</td>\n",
              "      <td>2.210000</td>\n",
              "      <td>17.200000</td>\n",
              "      <td>88.000000</td>\n",
              "      <td>1.742500</td>\n",
              "      <td>1.205000</td>\n",
              "      <td>0.270000</td>\n",
              "      <td>1.250000</td>\n",
              "      <td>3.220000</td>\n",
              "      <td>0.782500</td>\n",
              "      <td>1.937500</td>\n",
              "      <td>500.500000</td>\n",
              "      <td>0.000000</td>\n",
              "    </tr>\n",
              "    <tr>\n",
              "      <th>50%</th>\n",
              "      <td>13.050000</td>\n",
              "      <td>1.865000</td>\n",
              "      <td>2.360000</td>\n",
              "      <td>19.500000</td>\n",
              "      <td>98.000000</td>\n",
              "      <td>2.355000</td>\n",
              "      <td>2.135000</td>\n",
              "      <td>0.340000</td>\n",
              "      <td>1.555000</td>\n",
              "      <td>4.690000</td>\n",
              "      <td>0.965000</td>\n",
              "      <td>2.780000</td>\n",
              "      <td>673.500000</td>\n",
              "      <td>1.000000</td>\n",
              "    </tr>\n",
              "    <tr>\n",
              "      <th>75%</th>\n",
              "      <td>13.677500</td>\n",
              "      <td>3.082500</td>\n",
              "      <td>2.557500</td>\n",
              "      <td>21.500000</td>\n",
              "      <td>107.000000</td>\n",
              "      <td>2.800000</td>\n",
              "      <td>2.875000</td>\n",
              "      <td>0.437500</td>\n",
              "      <td>1.950000</td>\n",
              "      <td>6.200000</td>\n",
              "      <td>1.120000</td>\n",
              "      <td>3.170000</td>\n",
              "      <td>985.000000</td>\n",
              "      <td>2.000000</td>\n",
              "    </tr>\n",
              "    <tr>\n",
              "      <th>max</th>\n",
              "      <td>14.830000</td>\n",
              "      <td>5.800000</td>\n",
              "      <td>3.230000</td>\n",
              "      <td>30.000000</td>\n",
              "      <td>162.000000</td>\n",
              "      <td>3.880000</td>\n",
              "      <td>5.080000</td>\n",
              "      <td>0.660000</td>\n",
              "      <td>3.580000</td>\n",
              "      <td>13.000000</td>\n",
              "      <td>1.710000</td>\n",
              "      <td>4.000000</td>\n",
              "      <td>1680.000000</td>\n",
              "      <td>2.000000</td>\n",
              "    </tr>\n",
              "  </tbody>\n",
              "</table>\n",
              "</div>"
            ],
            "text/plain": [
              "          alcohol  malic_acid  ...      proline      target\n",
              "count  178.000000  178.000000  ...   178.000000  178.000000\n",
              "mean    13.000618    2.336348  ...   746.893258    0.938202\n",
              "std      0.811827    1.117146  ...   314.907474    0.775035\n",
              "min     11.030000    0.740000  ...   278.000000    0.000000\n",
              "25%     12.362500    1.602500  ...   500.500000    0.000000\n",
              "50%     13.050000    1.865000  ...   673.500000    1.000000\n",
              "75%     13.677500    3.082500  ...   985.000000    2.000000\n",
              "max     14.830000    5.800000  ...  1680.000000    2.000000\n",
              "\n",
              "[8 rows x 14 columns]"
            ]
          },
          "metadata": {
            "tags": []
          },
          "execution_count": 320
        }
      ]
    },
    {
      "cell_type": "code",
      "metadata": {
        "id": "6l0cL9O-oZOA"
      },
      "source": [
        "#Split data for traning and testing\n",
        "featuresNames = df_wine.columns[:-1]\n",
        "classNames = 'target'\n",
        "X_train, X_test, y_train, y_test = train_test_split(df_wine[featuresNames], df_wine[classNames], test_size=0.33, random_state=42)"
      ],
      "execution_count": null,
      "outputs": []
    },
    {
      "cell_type": "code",
      "metadata": {
        "colab": {
          "base_uri": "https://localhost:8080/"
        },
        "id": "Rbgs1VY55MuN",
        "outputId": "708cda65-b4f0-417d-fe8c-957f534940e5"
      },
      "source": [
        "wine.target_names"
      ],
      "execution_count": null,
      "outputs": [
        {
          "output_type": "execute_result",
          "data": {
            "text/plain": [
              "array(['class_0', 'class_1', 'class_2'], dtype='<U7')"
            ]
          },
          "metadata": {
            "tags": []
          },
          "execution_count": 322
        }
      ]
    },
    {
      "cell_type": "code",
      "metadata": {
        "colab": {
          "base_uri": "https://localhost:8080/",
          "height": 441
        },
        "id": "zlejJL65pQFl",
        "outputId": "afae0061-610c-4dc1-aad5-31c2e86adeba"
      },
      "source": [
        "#Decision tree fit with the training data\n",
        "tree_clf = DecisionTreeClassifier(max_depth = 2, random_state=0)\n",
        "tree_clf = tree_clf.fit(X_train, y_train)\n",
        "\n",
        "#Create tree view\n",
        "export_graphviz(\n",
        "    tree_clf,\n",
        "    out_file = os.path.join(IMAGES_PATH, \"wine_tree.dot\"),\n",
        "    feature_names = featuresNames,\n",
        "    class_names = wine.target_names,\n",
        "    rounded=True,\n",
        "    filled=True\n",
        ")\n",
        "\n",
        "Source.from_file(os.path.join(IMAGES_PATH, \"wine_tree.dot\"))"
      ],
      "execution_count": null,
      "outputs": [
        {
          "output_type": "execute_result",
          "data": {
            "text/plain": [
              "<graphviz.files.Source at 0x7f265e54fb50>"
            ],
            "image/svg+xml": "<?xml version=\"1.0\" encoding=\"UTF-8\" standalone=\"no\"?>\n<!DOCTYPE svg PUBLIC \"-//W3C//DTD SVG 1.1//EN\"\n \"http://www.w3.org/Graphics/SVG/1.1/DTD/svg11.dtd\">\n<!-- Generated by graphviz version 2.40.1 (20161225.0304)\n -->\n<!-- Title: Tree Pages: 1 -->\n<svg width=\"553pt\" height=\"314pt\"\n viewBox=\"0.00 0.00 553.00 314.00\" xmlns=\"http://www.w3.org/2000/svg\" xmlns:xlink=\"http://www.w3.org/1999/xlink\">\n<g id=\"graph0\" class=\"graph\" transform=\"scale(1 1) rotate(0) translate(4 310)\">\n<title>Tree</title>\n<polygon fill=\"#ffffff\" stroke=\"transparent\" points=\"-4,4 -4,-310 549,-310 549,4 -4,4\"/>\n<!-- 0 -->\n<g id=\"node1\" class=\"node\">\n<title>0</title>\n<path fill=\"#ebfcf2\" stroke=\"#000000\" d=\"M339.5,-306C339.5,-306 201.5,-306 201.5,-306 195.5,-306 189.5,-300 189.5,-294 189.5,-294 189.5,-235 189.5,-235 189.5,-229 195.5,-223 201.5,-223 201.5,-223 339.5,-223 339.5,-223 345.5,-223 351.5,-229 351.5,-235 351.5,-235 351.5,-294 351.5,-294 351.5,-300 345.5,-306 339.5,-306\"/>\n<text text-anchor=\"middle\" x=\"270.5\" y=\"-290.8\" font-family=\"Helvetica,sans-Serif\" font-size=\"14.00\" fill=\"#000000\">color_intensity &lt;= 3.82</text>\n<text text-anchor=\"middle\" x=\"270.5\" y=\"-275.8\" font-family=\"Helvetica,sans-Serif\" font-size=\"14.00\" fill=\"#000000\">gini = 0.66</text>\n<text text-anchor=\"middle\" x=\"270.5\" y=\"-260.8\" font-family=\"Helvetica,sans-Serif\" font-size=\"14.00\" fill=\"#000000\">samples = 119</text>\n<text text-anchor=\"middle\" x=\"270.5\" y=\"-245.8\" font-family=\"Helvetica,sans-Serif\" font-size=\"14.00\" fill=\"#000000\">value = [39, 47, 33]</text>\n<text text-anchor=\"middle\" x=\"270.5\" y=\"-230.8\" font-family=\"Helvetica,sans-Serif\" font-size=\"14.00\" fill=\"#000000\">class = class_1</text>\n</g>\n<!-- 1 -->\n<g id=\"node2\" class=\"node\">\n<title>1</title>\n<path fill=\"#43e687\" stroke=\"#000000\" d=\"M249,-187C249,-187 144,-187 144,-187 138,-187 132,-181 132,-175 132,-175 132,-116 132,-116 132,-110 138,-104 144,-104 144,-104 249,-104 249,-104 255,-104 261,-110 261,-116 261,-116 261,-175 261,-175 261,-181 255,-187 249,-187\"/>\n<text text-anchor=\"middle\" x=\"196.5\" y=\"-171.8\" font-family=\"Helvetica,sans-Serif\" font-size=\"14.00\" fill=\"#000000\">proline &lt;= 1010.0</text>\n<text text-anchor=\"middle\" x=\"196.5\" y=\"-156.8\" font-family=\"Helvetica,sans-Serif\" font-size=\"14.00\" fill=\"#000000\">gini = 0.089</text>\n<text text-anchor=\"middle\" x=\"196.5\" y=\"-141.8\" font-family=\"Helvetica,sans-Serif\" font-size=\"14.00\" fill=\"#000000\">samples = 43</text>\n<text text-anchor=\"middle\" x=\"196.5\" y=\"-126.8\" font-family=\"Helvetica,sans-Serif\" font-size=\"14.00\" fill=\"#000000\">value = [2, 41, 0]</text>\n<text text-anchor=\"middle\" x=\"196.5\" y=\"-111.8\" font-family=\"Helvetica,sans-Serif\" font-size=\"14.00\" fill=\"#000000\">class = class_1</text>\n</g>\n<!-- 0&#45;&gt;1 -->\n<g id=\"edge1\" class=\"edge\">\n<title>0&#45;&gt;1</title>\n<path fill=\"none\" stroke=\"#000000\" d=\"M244.6184,-222.8796C239.1858,-214.1434 233.4008,-204.8404 227.7947,-195.8253\"/>\n<polygon fill=\"#000000\" stroke=\"#000000\" points=\"230.7451,-193.9418 222.4921,-187.2981 224.8007,-197.6383 230.7451,-193.9418\"/>\n<text text-anchor=\"middle\" x=\"216.8153\" y=\"-207.945\" font-family=\"Helvetica,sans-Serif\" font-size=\"14.00\" fill=\"#000000\">True</text>\n</g>\n<!-- 4 -->\n<g id=\"node5\" class=\"node\">\n<title>4</title>\n<path fill=\"#fdf3ed\" stroke=\"#000000\" d=\"M398,-187C398,-187 291,-187 291,-187 285,-187 279,-181 279,-175 279,-175 279,-116 279,-116 279,-110 285,-104 291,-104 291,-104 398,-104 398,-104 404,-104 410,-110 410,-116 410,-116 410,-175 410,-175 410,-181 404,-187 398,-187\"/>\n<text text-anchor=\"middle\" x=\"344.5\" y=\"-171.8\" font-family=\"Helvetica,sans-Serif\" font-size=\"14.00\" fill=\"#000000\">flavanoids &lt;= 1.4</text>\n<text text-anchor=\"middle\" x=\"344.5\" y=\"-156.8\" font-family=\"Helvetica,sans-Serif\" font-size=\"14.00\" fill=\"#000000\">gini = 0.568</text>\n<text text-anchor=\"middle\" x=\"344.5\" y=\"-141.8\" font-family=\"Helvetica,sans-Serif\" font-size=\"14.00\" fill=\"#000000\">samples = 76</text>\n<text text-anchor=\"middle\" x=\"344.5\" y=\"-126.8\" font-family=\"Helvetica,sans-Serif\" font-size=\"14.00\" fill=\"#000000\">value = [37, 6, 33]</text>\n<text text-anchor=\"middle\" x=\"344.5\" y=\"-111.8\" font-family=\"Helvetica,sans-Serif\" font-size=\"14.00\" fill=\"#000000\">class = class_0</text>\n</g>\n<!-- 0&#45;&gt;4 -->\n<g id=\"edge4\" class=\"edge\">\n<title>0&#45;&gt;4</title>\n<path fill=\"none\" stroke=\"#000000\" d=\"M296.3816,-222.8796C301.8142,-214.1434 307.5992,-204.8404 313.2053,-195.8253\"/>\n<polygon fill=\"#000000\" stroke=\"#000000\" points=\"316.1993,-197.6383 318.5079,-187.2981 310.2549,-193.9418 316.1993,-197.6383\"/>\n<text text-anchor=\"middle\" x=\"324.1847\" y=\"-207.945\" font-family=\"Helvetica,sans-Serif\" font-size=\"14.00\" fill=\"#000000\">False</text>\n</g>\n<!-- 2 -->\n<g id=\"node3\" class=\"node\">\n<title>2</title>\n<path fill=\"#3ee684\" stroke=\"#000000\" d=\"M111,-68C111,-68 12,-68 12,-68 6,-68 0,-62 0,-56 0,-56 0,-12 0,-12 0,-6 6,0 12,0 12,0 111,0 111,0 117,0 123,-6 123,-12 123,-12 123,-56 123,-56 123,-62 117,-68 111,-68\"/>\n<text text-anchor=\"middle\" x=\"61.5\" y=\"-52.8\" font-family=\"Helvetica,sans-Serif\" font-size=\"14.00\" fill=\"#000000\">gini = 0.046</text>\n<text text-anchor=\"middle\" x=\"61.5\" y=\"-37.8\" font-family=\"Helvetica,sans-Serif\" font-size=\"14.00\" fill=\"#000000\">samples = 42</text>\n<text text-anchor=\"middle\" x=\"61.5\" y=\"-22.8\" font-family=\"Helvetica,sans-Serif\" font-size=\"14.00\" fill=\"#000000\">value = [1, 41, 0]</text>\n<text text-anchor=\"middle\" x=\"61.5\" y=\"-7.8\" font-family=\"Helvetica,sans-Serif\" font-size=\"14.00\" fill=\"#000000\">class = class_1</text>\n</g>\n<!-- 1&#45;&gt;2 -->\n<g id=\"edge2\" class=\"edge\">\n<title>1&#45;&gt;2</title>\n<path fill=\"none\" stroke=\"#000000\" d=\"M146.231,-103.9815C134.6582,-94.4232 122.3611,-84.2668 110.8287,-74.7419\"/>\n<polygon fill=\"#000000\" stroke=\"#000000\" points=\"112.9243,-71.9332 102.9852,-68.2637 108.4666,-77.3304 112.9243,-71.9332\"/>\n</g>\n<!-- 3 -->\n<g id=\"node4\" class=\"node\">\n<title>3</title>\n<path fill=\"#e58139\" stroke=\"#000000\" d=\"M245.5,-68C245.5,-68 153.5,-68 153.5,-68 147.5,-68 141.5,-62 141.5,-56 141.5,-56 141.5,-12 141.5,-12 141.5,-6 147.5,0 153.5,0 153.5,0 245.5,0 245.5,0 251.5,0 257.5,-6 257.5,-12 257.5,-12 257.5,-56 257.5,-56 257.5,-62 251.5,-68 245.5,-68\"/>\n<text text-anchor=\"middle\" x=\"199.5\" y=\"-52.8\" font-family=\"Helvetica,sans-Serif\" font-size=\"14.00\" fill=\"#000000\">gini = 0.0</text>\n<text text-anchor=\"middle\" x=\"199.5\" y=\"-37.8\" font-family=\"Helvetica,sans-Serif\" font-size=\"14.00\" fill=\"#000000\">samples = 1</text>\n<text text-anchor=\"middle\" x=\"199.5\" y=\"-22.8\" font-family=\"Helvetica,sans-Serif\" font-size=\"14.00\" fill=\"#000000\">value = [1, 0, 0]</text>\n<text text-anchor=\"middle\" x=\"199.5\" y=\"-7.8\" font-family=\"Helvetica,sans-Serif\" font-size=\"14.00\" fill=\"#000000\">class = class_0</text>\n</g>\n<!-- 1&#45;&gt;3 -->\n<g id=\"edge3\" class=\"edge\">\n<title>1&#45;&gt;3</title>\n<path fill=\"none\" stroke=\"#000000\" d=\"M197.6171,-103.9815C197.8421,-95.618 198.0795,-86.7965 198.307,-78.3409\"/>\n<polygon fill=\"#000000\" stroke=\"#000000\" points=\"201.8078,-78.3542 198.5781,-68.2637 194.8103,-78.1659 201.8078,-78.3542\"/>\n</g>\n<!-- 5 -->\n<g id=\"node6\" class=\"node\">\n<title>5</title>\n<path fill=\"#8139e5\" stroke=\"#000000\" d=\"M392,-68C392,-68 293,-68 293,-68 287,-68 281,-62 281,-56 281,-56 281,-12 281,-12 281,-6 287,0 293,0 293,0 392,0 392,0 398,0 404,-6 404,-12 404,-12 404,-56 404,-56 404,-62 398,-68 392,-68\"/>\n<text text-anchor=\"middle\" x=\"342.5\" y=\"-52.8\" font-family=\"Helvetica,sans-Serif\" font-size=\"14.00\" fill=\"#000000\">gini = 0.0</text>\n<text text-anchor=\"middle\" x=\"342.5\" y=\"-37.8\" font-family=\"Helvetica,sans-Serif\" font-size=\"14.00\" fill=\"#000000\">samples = 33</text>\n<text text-anchor=\"middle\" x=\"342.5\" y=\"-22.8\" font-family=\"Helvetica,sans-Serif\" font-size=\"14.00\" fill=\"#000000\">value = [0, 0, 33]</text>\n<text text-anchor=\"middle\" x=\"342.5\" y=\"-7.8\" font-family=\"Helvetica,sans-Serif\" font-size=\"14.00\" fill=\"#000000\">class = class_2</text>\n</g>\n<!-- 4&#45;&gt;5 -->\n<g id=\"edge5\" class=\"edge\">\n<title>4&#45;&gt;5</title>\n<path fill=\"none\" stroke=\"#000000\" d=\"M343.7553,-103.9815C343.6053,-95.618 343.447,-86.7965 343.2954,-78.3409\"/>\n<polygon fill=\"#000000\" stroke=\"#000000\" points=\"346.7935,-78.1993 343.1146,-68.2637 339.7946,-78.3249 346.7935,-78.1993\"/>\n</g>\n<!-- 6 -->\n<g id=\"node7\" class=\"node\">\n<title>6</title>\n<path fill=\"#e99559\" stroke=\"#000000\" d=\"M533,-68C533,-68 434,-68 434,-68 428,-68 422,-62 422,-56 422,-56 422,-12 422,-12 422,-6 428,0 434,0 434,0 533,0 533,0 539,0 545,-6 545,-12 545,-12 545,-56 545,-56 545,-62 539,-68 533,-68\"/>\n<text text-anchor=\"middle\" x=\"483.5\" y=\"-52.8\" font-family=\"Helvetica,sans-Serif\" font-size=\"14.00\" fill=\"#000000\">gini = 0.24</text>\n<text text-anchor=\"middle\" x=\"483.5\" y=\"-37.8\" font-family=\"Helvetica,sans-Serif\" font-size=\"14.00\" fill=\"#000000\">samples = 43</text>\n<text text-anchor=\"middle\" x=\"483.5\" y=\"-22.8\" font-family=\"Helvetica,sans-Serif\" font-size=\"14.00\" fill=\"#000000\">value = [37, 6, 0]</text>\n<text text-anchor=\"middle\" x=\"483.5\" y=\"-7.8\" font-family=\"Helvetica,sans-Serif\" font-size=\"14.00\" fill=\"#000000\">class = class_0</text>\n</g>\n<!-- 4&#45;&gt;6 -->\n<g id=\"edge6\" class=\"edge\">\n<title>4&#45;&gt;6</title>\n<path fill=\"none\" stroke=\"#000000\" d=\"M396.2585,-103.9815C408.1742,-94.4232 420.8356,-84.2668 432.7097,-74.7419\"/>\n<polygon fill=\"#000000\" stroke=\"#000000\" points=\"435.1752,-77.2511 440.7856,-68.2637 430.7951,-71.7907 435.1752,-77.2511\"/>\n</g>\n</g>\n</svg>\n"
          },
          "metadata": {
            "tags": []
          },
          "execution_count": 323
        }
      ]
    },
    {
      "cell_type": "code",
      "metadata": {
        "colab": {
          "base_uri": "https://localhost:8080/"
        },
        "id": "AvL1wpffqDnr",
        "outputId": "5bcafeac-84a8-4632-bcdb-7ed24592c5ac"
      },
      "source": [
        "#Calculate Accuracy: correct predictions / total number of data points\n",
        "score = tree_clf.score(X_test, y_test)\n",
        "print(\"Score of wine dataset Decision Tree model: \", score)"
      ],
      "execution_count": null,
      "outputs": [
        {
          "output_type": "stream",
          "text": [
            "Score of wine dataset Decision Tree model:  0.8813559322033898\n"
          ],
          "name": "stdout"
        }
      ]
    },
    {
      "cell_type": "code",
      "metadata": {
        "colab": {
          "base_uri": "https://localhost:8080/"
        },
        "id": "i5IRVgyiyw8T",
        "outputId": "a5687b2c-26d0-4dda-823c-b98ee0844a3c"
      },
      "source": [
        "print(\"Wine Figs generated in: \", IMAGES_PATH)"
      ],
      "execution_count": null,
      "outputs": [
        {
          "output_type": "stream",
          "text": [
            "Wine Figs generated in:  ./images/decision_trees\n"
          ],
          "name": "stdout"
        }
      ]
    },
    {
      "cell_type": "markdown",
      "metadata": {
        "id": "218AecS7qjlz"
      },
      "source": [
        "## Breast Cancer dataset\n"
      ]
    },
    {
      "cell_type": "code",
      "metadata": {
        "id": "fODlZLNsqpAI"
      },
      "source": [
        "from sklearn.datasets import load_breast_cancer\n",
        "cancer = load_breast_cancer()\n",
        "df_cancer = pd.DataFrame(data=cancer['data'], columns=cancer['feature_names'])\n",
        "df_cancer['target'] = cancer['target']"
      ],
      "execution_count": null,
      "outputs": []
    },
    {
      "cell_type": "code",
      "metadata": {
        "colab": {
          "base_uri": "https://localhost:8080/",
          "height": 249
        },
        "id": "lsZRUBNOrNjq",
        "outputId": "9a4068e5-31d8-4078-d89d-4eecdb8586d1"
      },
      "source": [
        "df_cancer.sample(5)"
      ],
      "execution_count": null,
      "outputs": [
        {
          "output_type": "execute_result",
          "data": {
            "text/html": [
              "<div>\n",
              "<style scoped>\n",
              "    .dataframe tbody tr th:only-of-type {\n",
              "        vertical-align: middle;\n",
              "    }\n",
              "\n",
              "    .dataframe tbody tr th {\n",
              "        vertical-align: top;\n",
              "    }\n",
              "\n",
              "    .dataframe thead th {\n",
              "        text-align: right;\n",
              "    }\n",
              "</style>\n",
              "<table border=\"1\" class=\"dataframe\">\n",
              "  <thead>\n",
              "    <tr style=\"text-align: right;\">\n",
              "      <th></th>\n",
              "      <th>mean radius</th>\n",
              "      <th>mean texture</th>\n",
              "      <th>mean perimeter</th>\n",
              "      <th>mean area</th>\n",
              "      <th>mean smoothness</th>\n",
              "      <th>mean compactness</th>\n",
              "      <th>mean concavity</th>\n",
              "      <th>mean concave points</th>\n",
              "      <th>mean symmetry</th>\n",
              "      <th>mean fractal dimension</th>\n",
              "      <th>radius error</th>\n",
              "      <th>texture error</th>\n",
              "      <th>perimeter error</th>\n",
              "      <th>area error</th>\n",
              "      <th>smoothness error</th>\n",
              "      <th>compactness error</th>\n",
              "      <th>concavity error</th>\n",
              "      <th>concave points error</th>\n",
              "      <th>symmetry error</th>\n",
              "      <th>fractal dimension error</th>\n",
              "      <th>worst radius</th>\n",
              "      <th>worst texture</th>\n",
              "      <th>worst perimeter</th>\n",
              "      <th>worst area</th>\n",
              "      <th>worst smoothness</th>\n",
              "      <th>worst compactness</th>\n",
              "      <th>worst concavity</th>\n",
              "      <th>worst concave points</th>\n",
              "      <th>worst symmetry</th>\n",
              "      <th>worst fractal dimension</th>\n",
              "      <th>target</th>\n",
              "    </tr>\n",
              "  </thead>\n",
              "  <tbody>\n",
              "    <tr>\n",
              "      <th>350</th>\n",
              "      <td>11.66</td>\n",
              "      <td>17.07</td>\n",
              "      <td>73.70</td>\n",
              "      <td>421.0</td>\n",
              "      <td>0.07561</td>\n",
              "      <td>0.03630</td>\n",
              "      <td>0.008306</td>\n",
              "      <td>0.01162</td>\n",
              "      <td>0.1671</td>\n",
              "      <td>0.05731</td>\n",
              "      <td>0.3534</td>\n",
              "      <td>0.6724</td>\n",
              "      <td>2.225</td>\n",
              "      <td>26.03</td>\n",
              "      <td>0.006583</td>\n",
              "      <td>0.006991</td>\n",
              "      <td>0.005949</td>\n",
              "      <td>0.006296</td>\n",
              "      <td>0.02216</td>\n",
              "      <td>0.002668</td>\n",
              "      <td>13.28</td>\n",
              "      <td>19.74</td>\n",
              "      <td>83.61</td>\n",
              "      <td>542.5</td>\n",
              "      <td>0.09958</td>\n",
              "      <td>0.06476</td>\n",
              "      <td>0.03046</td>\n",
              "      <td>0.04262</td>\n",
              "      <td>0.2731</td>\n",
              "      <td>0.06825</td>\n",
              "      <td>1</td>\n",
              "    </tr>\n",
              "    <tr>\n",
              "      <th>385</th>\n",
              "      <td>14.60</td>\n",
              "      <td>23.29</td>\n",
              "      <td>93.97</td>\n",
              "      <td>664.7</td>\n",
              "      <td>0.08682</td>\n",
              "      <td>0.06636</td>\n",
              "      <td>0.083900</td>\n",
              "      <td>0.05271</td>\n",
              "      <td>0.1627</td>\n",
              "      <td>0.05416</td>\n",
              "      <td>0.4157</td>\n",
              "      <td>1.6270</td>\n",
              "      <td>2.914</td>\n",
              "      <td>33.01</td>\n",
              "      <td>0.008312</td>\n",
              "      <td>0.017420</td>\n",
              "      <td>0.033890</td>\n",
              "      <td>0.015760</td>\n",
              "      <td>0.01740</td>\n",
              "      <td>0.002871</td>\n",
              "      <td>15.79</td>\n",
              "      <td>31.71</td>\n",
              "      <td>102.20</td>\n",
              "      <td>758.2</td>\n",
              "      <td>0.13120</td>\n",
              "      <td>0.15810</td>\n",
              "      <td>0.26750</td>\n",
              "      <td>0.13590</td>\n",
              "      <td>0.2477</td>\n",
              "      <td>0.06836</td>\n",
              "      <td>0</td>\n",
              "    </tr>\n",
              "    <tr>\n",
              "      <th>340</th>\n",
              "      <td>14.42</td>\n",
              "      <td>16.54</td>\n",
              "      <td>94.15</td>\n",
              "      <td>641.2</td>\n",
              "      <td>0.09751</td>\n",
              "      <td>0.11390</td>\n",
              "      <td>0.080070</td>\n",
              "      <td>0.04223</td>\n",
              "      <td>0.1912</td>\n",
              "      <td>0.06412</td>\n",
              "      <td>0.3491</td>\n",
              "      <td>0.7706</td>\n",
              "      <td>2.677</td>\n",
              "      <td>32.14</td>\n",
              "      <td>0.004577</td>\n",
              "      <td>0.030530</td>\n",
              "      <td>0.038400</td>\n",
              "      <td>0.012430</td>\n",
              "      <td>0.01873</td>\n",
              "      <td>0.003373</td>\n",
              "      <td>16.67</td>\n",
              "      <td>21.51</td>\n",
              "      <td>111.40</td>\n",
              "      <td>862.1</td>\n",
              "      <td>0.12940</td>\n",
              "      <td>0.33710</td>\n",
              "      <td>0.37550</td>\n",
              "      <td>0.14140</td>\n",
              "      <td>0.3053</td>\n",
              "      <td>0.08764</td>\n",
              "      <td>1</td>\n",
              "    </tr>\n",
              "    <tr>\n",
              "      <th>86</th>\n",
              "      <td>14.48</td>\n",
              "      <td>21.46</td>\n",
              "      <td>94.25</td>\n",
              "      <td>648.2</td>\n",
              "      <td>0.09444</td>\n",
              "      <td>0.09947</td>\n",
              "      <td>0.120400</td>\n",
              "      <td>0.04938</td>\n",
              "      <td>0.2075</td>\n",
              "      <td>0.05636</td>\n",
              "      <td>0.4204</td>\n",
              "      <td>2.2200</td>\n",
              "      <td>3.301</td>\n",
              "      <td>38.87</td>\n",
              "      <td>0.009369</td>\n",
              "      <td>0.029830</td>\n",
              "      <td>0.053710</td>\n",
              "      <td>0.017610</td>\n",
              "      <td>0.02418</td>\n",
              "      <td>0.003249</td>\n",
              "      <td>16.21</td>\n",
              "      <td>29.25</td>\n",
              "      <td>108.40</td>\n",
              "      <td>808.9</td>\n",
              "      <td>0.13060</td>\n",
              "      <td>0.19760</td>\n",
              "      <td>0.33490</td>\n",
              "      <td>0.12250</td>\n",
              "      <td>0.3020</td>\n",
              "      <td>0.06846</td>\n",
              "      <td>0</td>\n",
              "    </tr>\n",
              "    <tr>\n",
              "      <th>99</th>\n",
              "      <td>14.42</td>\n",
              "      <td>19.77</td>\n",
              "      <td>94.48</td>\n",
              "      <td>642.5</td>\n",
              "      <td>0.09752</td>\n",
              "      <td>0.11410</td>\n",
              "      <td>0.093880</td>\n",
              "      <td>0.05839</td>\n",
              "      <td>0.1879</td>\n",
              "      <td>0.06390</td>\n",
              "      <td>0.2895</td>\n",
              "      <td>1.8510</td>\n",
              "      <td>2.376</td>\n",
              "      <td>26.85</td>\n",
              "      <td>0.008005</td>\n",
              "      <td>0.028950</td>\n",
              "      <td>0.033210</td>\n",
              "      <td>0.014240</td>\n",
              "      <td>0.01462</td>\n",
              "      <td>0.004452</td>\n",
              "      <td>16.33</td>\n",
              "      <td>30.86</td>\n",
              "      <td>109.50</td>\n",
              "      <td>826.4</td>\n",
              "      <td>0.14310</td>\n",
              "      <td>0.30260</td>\n",
              "      <td>0.31940</td>\n",
              "      <td>0.15650</td>\n",
              "      <td>0.2718</td>\n",
              "      <td>0.09353</td>\n",
              "      <td>0</td>\n",
              "    </tr>\n",
              "  </tbody>\n",
              "</table>\n",
              "</div>"
            ],
            "text/plain": [
              "     mean radius  mean texture  ...  worst fractal dimension  target\n",
              "350        11.66         17.07  ...                  0.06825       1\n",
              "385        14.60         23.29  ...                  0.06836       0\n",
              "340        14.42         16.54  ...                  0.08764       1\n",
              "86         14.48         21.46  ...                  0.06846       0\n",
              "99         14.42         19.77  ...                  0.09353       0\n",
              "\n",
              "[5 rows x 31 columns]"
            ]
          },
          "metadata": {
            "tags": []
          },
          "execution_count": 327
        }
      ]
    },
    {
      "cell_type": "code",
      "metadata": {
        "colab": {
          "base_uri": "https://localhost:8080/",
          "height": 338
        },
        "id": "byo-KolirTcj",
        "outputId": "6a297808-f094-411d-d774-3f648752b180"
      },
      "source": [
        "df_cancer.describe()"
      ],
      "execution_count": null,
      "outputs": [
        {
          "output_type": "execute_result",
          "data": {
            "text/html": [
              "<div>\n",
              "<style scoped>\n",
              "    .dataframe tbody tr th:only-of-type {\n",
              "        vertical-align: middle;\n",
              "    }\n",
              "\n",
              "    .dataframe tbody tr th {\n",
              "        vertical-align: top;\n",
              "    }\n",
              "\n",
              "    .dataframe thead th {\n",
              "        text-align: right;\n",
              "    }\n",
              "</style>\n",
              "<table border=\"1\" class=\"dataframe\">\n",
              "  <thead>\n",
              "    <tr style=\"text-align: right;\">\n",
              "      <th></th>\n",
              "      <th>mean radius</th>\n",
              "      <th>mean texture</th>\n",
              "      <th>mean perimeter</th>\n",
              "      <th>mean area</th>\n",
              "      <th>mean smoothness</th>\n",
              "      <th>mean compactness</th>\n",
              "      <th>mean concavity</th>\n",
              "      <th>mean concave points</th>\n",
              "      <th>mean symmetry</th>\n",
              "      <th>mean fractal dimension</th>\n",
              "      <th>radius error</th>\n",
              "      <th>texture error</th>\n",
              "      <th>perimeter error</th>\n",
              "      <th>area error</th>\n",
              "      <th>smoothness error</th>\n",
              "      <th>compactness error</th>\n",
              "      <th>concavity error</th>\n",
              "      <th>concave points error</th>\n",
              "      <th>symmetry error</th>\n",
              "      <th>fractal dimension error</th>\n",
              "      <th>worst radius</th>\n",
              "      <th>worst texture</th>\n",
              "      <th>worst perimeter</th>\n",
              "      <th>worst area</th>\n",
              "      <th>worst smoothness</th>\n",
              "      <th>worst compactness</th>\n",
              "      <th>worst concavity</th>\n",
              "      <th>worst concave points</th>\n",
              "      <th>worst symmetry</th>\n",
              "      <th>worst fractal dimension</th>\n",
              "      <th>target</th>\n",
              "    </tr>\n",
              "  </thead>\n",
              "  <tbody>\n",
              "    <tr>\n",
              "      <th>count</th>\n",
              "      <td>569.000000</td>\n",
              "      <td>569.000000</td>\n",
              "      <td>569.000000</td>\n",
              "      <td>569.000000</td>\n",
              "      <td>569.000000</td>\n",
              "      <td>569.000000</td>\n",
              "      <td>569.000000</td>\n",
              "      <td>569.000000</td>\n",
              "      <td>569.000000</td>\n",
              "      <td>569.000000</td>\n",
              "      <td>569.000000</td>\n",
              "      <td>569.000000</td>\n",
              "      <td>569.000000</td>\n",
              "      <td>569.000000</td>\n",
              "      <td>569.000000</td>\n",
              "      <td>569.000000</td>\n",
              "      <td>569.000000</td>\n",
              "      <td>569.000000</td>\n",
              "      <td>569.000000</td>\n",
              "      <td>569.000000</td>\n",
              "      <td>569.000000</td>\n",
              "      <td>569.000000</td>\n",
              "      <td>569.000000</td>\n",
              "      <td>569.000000</td>\n",
              "      <td>569.000000</td>\n",
              "      <td>569.000000</td>\n",
              "      <td>569.000000</td>\n",
              "      <td>569.000000</td>\n",
              "      <td>569.000000</td>\n",
              "      <td>569.000000</td>\n",
              "      <td>569.000000</td>\n",
              "    </tr>\n",
              "    <tr>\n",
              "      <th>mean</th>\n",
              "      <td>14.127292</td>\n",
              "      <td>19.289649</td>\n",
              "      <td>91.969033</td>\n",
              "      <td>654.889104</td>\n",
              "      <td>0.096360</td>\n",
              "      <td>0.104341</td>\n",
              "      <td>0.088799</td>\n",
              "      <td>0.048919</td>\n",
              "      <td>0.181162</td>\n",
              "      <td>0.062798</td>\n",
              "      <td>0.405172</td>\n",
              "      <td>1.216853</td>\n",
              "      <td>2.866059</td>\n",
              "      <td>40.337079</td>\n",
              "      <td>0.007041</td>\n",
              "      <td>0.025478</td>\n",
              "      <td>0.031894</td>\n",
              "      <td>0.011796</td>\n",
              "      <td>0.020542</td>\n",
              "      <td>0.003795</td>\n",
              "      <td>16.269190</td>\n",
              "      <td>25.677223</td>\n",
              "      <td>107.261213</td>\n",
              "      <td>880.583128</td>\n",
              "      <td>0.132369</td>\n",
              "      <td>0.254265</td>\n",
              "      <td>0.272188</td>\n",
              "      <td>0.114606</td>\n",
              "      <td>0.290076</td>\n",
              "      <td>0.083946</td>\n",
              "      <td>0.627417</td>\n",
              "    </tr>\n",
              "    <tr>\n",
              "      <th>std</th>\n",
              "      <td>3.524049</td>\n",
              "      <td>4.301036</td>\n",
              "      <td>24.298981</td>\n",
              "      <td>351.914129</td>\n",
              "      <td>0.014064</td>\n",
              "      <td>0.052813</td>\n",
              "      <td>0.079720</td>\n",
              "      <td>0.038803</td>\n",
              "      <td>0.027414</td>\n",
              "      <td>0.007060</td>\n",
              "      <td>0.277313</td>\n",
              "      <td>0.551648</td>\n",
              "      <td>2.021855</td>\n",
              "      <td>45.491006</td>\n",
              "      <td>0.003003</td>\n",
              "      <td>0.017908</td>\n",
              "      <td>0.030186</td>\n",
              "      <td>0.006170</td>\n",
              "      <td>0.008266</td>\n",
              "      <td>0.002646</td>\n",
              "      <td>4.833242</td>\n",
              "      <td>6.146258</td>\n",
              "      <td>33.602542</td>\n",
              "      <td>569.356993</td>\n",
              "      <td>0.022832</td>\n",
              "      <td>0.157336</td>\n",
              "      <td>0.208624</td>\n",
              "      <td>0.065732</td>\n",
              "      <td>0.061867</td>\n",
              "      <td>0.018061</td>\n",
              "      <td>0.483918</td>\n",
              "    </tr>\n",
              "    <tr>\n",
              "      <th>min</th>\n",
              "      <td>6.981000</td>\n",
              "      <td>9.710000</td>\n",
              "      <td>43.790000</td>\n",
              "      <td>143.500000</td>\n",
              "      <td>0.052630</td>\n",
              "      <td>0.019380</td>\n",
              "      <td>0.000000</td>\n",
              "      <td>0.000000</td>\n",
              "      <td>0.106000</td>\n",
              "      <td>0.049960</td>\n",
              "      <td>0.111500</td>\n",
              "      <td>0.360200</td>\n",
              "      <td>0.757000</td>\n",
              "      <td>6.802000</td>\n",
              "      <td>0.001713</td>\n",
              "      <td>0.002252</td>\n",
              "      <td>0.000000</td>\n",
              "      <td>0.000000</td>\n",
              "      <td>0.007882</td>\n",
              "      <td>0.000895</td>\n",
              "      <td>7.930000</td>\n",
              "      <td>12.020000</td>\n",
              "      <td>50.410000</td>\n",
              "      <td>185.200000</td>\n",
              "      <td>0.071170</td>\n",
              "      <td>0.027290</td>\n",
              "      <td>0.000000</td>\n",
              "      <td>0.000000</td>\n",
              "      <td>0.156500</td>\n",
              "      <td>0.055040</td>\n",
              "      <td>0.000000</td>\n",
              "    </tr>\n",
              "    <tr>\n",
              "      <th>25%</th>\n",
              "      <td>11.700000</td>\n",
              "      <td>16.170000</td>\n",
              "      <td>75.170000</td>\n",
              "      <td>420.300000</td>\n",
              "      <td>0.086370</td>\n",
              "      <td>0.064920</td>\n",
              "      <td>0.029560</td>\n",
              "      <td>0.020310</td>\n",
              "      <td>0.161900</td>\n",
              "      <td>0.057700</td>\n",
              "      <td>0.232400</td>\n",
              "      <td>0.833900</td>\n",
              "      <td>1.606000</td>\n",
              "      <td>17.850000</td>\n",
              "      <td>0.005169</td>\n",
              "      <td>0.013080</td>\n",
              "      <td>0.015090</td>\n",
              "      <td>0.007638</td>\n",
              "      <td>0.015160</td>\n",
              "      <td>0.002248</td>\n",
              "      <td>13.010000</td>\n",
              "      <td>21.080000</td>\n",
              "      <td>84.110000</td>\n",
              "      <td>515.300000</td>\n",
              "      <td>0.116600</td>\n",
              "      <td>0.147200</td>\n",
              "      <td>0.114500</td>\n",
              "      <td>0.064930</td>\n",
              "      <td>0.250400</td>\n",
              "      <td>0.071460</td>\n",
              "      <td>0.000000</td>\n",
              "    </tr>\n",
              "    <tr>\n",
              "      <th>50%</th>\n",
              "      <td>13.370000</td>\n",
              "      <td>18.840000</td>\n",
              "      <td>86.240000</td>\n",
              "      <td>551.100000</td>\n",
              "      <td>0.095870</td>\n",
              "      <td>0.092630</td>\n",
              "      <td>0.061540</td>\n",
              "      <td>0.033500</td>\n",
              "      <td>0.179200</td>\n",
              "      <td>0.061540</td>\n",
              "      <td>0.324200</td>\n",
              "      <td>1.108000</td>\n",
              "      <td>2.287000</td>\n",
              "      <td>24.530000</td>\n",
              "      <td>0.006380</td>\n",
              "      <td>0.020450</td>\n",
              "      <td>0.025890</td>\n",
              "      <td>0.010930</td>\n",
              "      <td>0.018730</td>\n",
              "      <td>0.003187</td>\n",
              "      <td>14.970000</td>\n",
              "      <td>25.410000</td>\n",
              "      <td>97.660000</td>\n",
              "      <td>686.500000</td>\n",
              "      <td>0.131300</td>\n",
              "      <td>0.211900</td>\n",
              "      <td>0.226700</td>\n",
              "      <td>0.099930</td>\n",
              "      <td>0.282200</td>\n",
              "      <td>0.080040</td>\n",
              "      <td>1.000000</td>\n",
              "    </tr>\n",
              "    <tr>\n",
              "      <th>75%</th>\n",
              "      <td>15.780000</td>\n",
              "      <td>21.800000</td>\n",
              "      <td>104.100000</td>\n",
              "      <td>782.700000</td>\n",
              "      <td>0.105300</td>\n",
              "      <td>0.130400</td>\n",
              "      <td>0.130700</td>\n",
              "      <td>0.074000</td>\n",
              "      <td>0.195700</td>\n",
              "      <td>0.066120</td>\n",
              "      <td>0.478900</td>\n",
              "      <td>1.474000</td>\n",
              "      <td>3.357000</td>\n",
              "      <td>45.190000</td>\n",
              "      <td>0.008146</td>\n",
              "      <td>0.032450</td>\n",
              "      <td>0.042050</td>\n",
              "      <td>0.014710</td>\n",
              "      <td>0.023480</td>\n",
              "      <td>0.004558</td>\n",
              "      <td>18.790000</td>\n",
              "      <td>29.720000</td>\n",
              "      <td>125.400000</td>\n",
              "      <td>1084.000000</td>\n",
              "      <td>0.146000</td>\n",
              "      <td>0.339100</td>\n",
              "      <td>0.382900</td>\n",
              "      <td>0.161400</td>\n",
              "      <td>0.317900</td>\n",
              "      <td>0.092080</td>\n",
              "      <td>1.000000</td>\n",
              "    </tr>\n",
              "    <tr>\n",
              "      <th>max</th>\n",
              "      <td>28.110000</td>\n",
              "      <td>39.280000</td>\n",
              "      <td>188.500000</td>\n",
              "      <td>2501.000000</td>\n",
              "      <td>0.163400</td>\n",
              "      <td>0.345400</td>\n",
              "      <td>0.426800</td>\n",
              "      <td>0.201200</td>\n",
              "      <td>0.304000</td>\n",
              "      <td>0.097440</td>\n",
              "      <td>2.873000</td>\n",
              "      <td>4.885000</td>\n",
              "      <td>21.980000</td>\n",
              "      <td>542.200000</td>\n",
              "      <td>0.031130</td>\n",
              "      <td>0.135400</td>\n",
              "      <td>0.396000</td>\n",
              "      <td>0.052790</td>\n",
              "      <td>0.078950</td>\n",
              "      <td>0.029840</td>\n",
              "      <td>36.040000</td>\n",
              "      <td>49.540000</td>\n",
              "      <td>251.200000</td>\n",
              "      <td>4254.000000</td>\n",
              "      <td>0.222600</td>\n",
              "      <td>1.058000</td>\n",
              "      <td>1.252000</td>\n",
              "      <td>0.291000</td>\n",
              "      <td>0.663800</td>\n",
              "      <td>0.207500</td>\n",
              "      <td>1.000000</td>\n",
              "    </tr>\n",
              "  </tbody>\n",
              "</table>\n",
              "</div>"
            ],
            "text/plain": [
              "       mean radius  mean texture  ...  worst fractal dimension      target\n",
              "count   569.000000    569.000000  ...               569.000000  569.000000\n",
              "mean     14.127292     19.289649  ...                 0.083946    0.627417\n",
              "std       3.524049      4.301036  ...                 0.018061    0.483918\n",
              "min       6.981000      9.710000  ...                 0.055040    0.000000\n",
              "25%      11.700000     16.170000  ...                 0.071460    0.000000\n",
              "50%      13.370000     18.840000  ...                 0.080040    1.000000\n",
              "75%      15.780000     21.800000  ...                 0.092080    1.000000\n",
              "max      28.110000     39.280000  ...                 0.207500    1.000000\n",
              "\n",
              "[8 rows x 31 columns]"
            ]
          },
          "metadata": {
            "tags": []
          },
          "execution_count": 328
        }
      ]
    },
    {
      "cell_type": "code",
      "metadata": {
        "id": "dDj0j7cTrVtx"
      },
      "source": [
        "#Split data for traning and testing\n",
        "featuresNames = df_cancer.columns[:-1]\n",
        "classNames = 'target'\n",
        "X_train, X_test, y_train, y_test = train_test_split(df_cancer[featuresNames], df_cancer[classNames], test_size=0.33, random_state=42)"
      ],
      "execution_count": null,
      "outputs": []
    },
    {
      "cell_type": "code",
      "metadata": {
        "colab": {
          "base_uri": "https://localhost:8080/",
          "height": 441
        },
        "id": "6uTGuAYirezq",
        "outputId": "8d9e7142-e75f-4982-eb25-0c85e194200f"
      },
      "source": [
        "#Decision tree fit with the training data\n",
        "tree_clf = DecisionTreeClassifier(max_depth = 2, random_state=0)\n",
        "tree_clf = tree_clf.fit(X_train, y_train)\n",
        "\n",
        "#Create tree view\n",
        "export_graphviz(\n",
        "    tree_clf,\n",
        "    out_file = os.path.join(IMAGES_PATH, \"cancer_tree.dot\"),\n",
        "    feature_names = featuresNames,\n",
        "    class_names = cancer.target_names,\n",
        "    rounded=True,\n",
        "    filled=True\n",
        ")\n",
        "\n",
        "Source.from_file(os.path.join(IMAGES_PATH, \"cancer_tree.dot\"))"
      ],
      "execution_count": null,
      "outputs": [
        {
          "output_type": "execute_result",
          "data": {
            "text/plain": [
              "<graphviz.files.Source at 0x7f265e65d610>"
            ],
            "image/svg+xml": "<?xml version=\"1.0\" encoding=\"UTF-8\" standalone=\"no\"?>\n<!DOCTYPE svg PUBLIC \"-//W3C//DTD SVG 1.1//EN\"\n \"http://www.w3.org/Graphics/SVG/1.1/DTD/svg11.dtd\">\n<!-- Generated by graphviz version 2.40.1 (20161225.0304)\n -->\n<!-- Title: Tree Pages: 1 -->\n<svg width=\"571pt\" height=\"314pt\"\n viewBox=\"0.00 0.00 570.50 314.00\" xmlns=\"http://www.w3.org/2000/svg\" xmlns:xlink=\"http://www.w3.org/1999/xlink\">\n<g id=\"graph0\" class=\"graph\" transform=\"scale(1 1) rotate(0) translate(4 310)\">\n<title>Tree</title>\n<polygon fill=\"#ffffff\" stroke=\"transparent\" points=\"-4,4 -4,-310 566.5,-310 566.5,4 -4,4\"/>\n<!-- 0 -->\n<g id=\"node1\" class=\"node\">\n<title>0</title>\n<path fill=\"#b3d9f5\" stroke=\"#000000\" d=\"M375,-306C375,-306 183,-306 183,-306 177,-306 171,-300 171,-294 171,-294 171,-235 171,-235 171,-229 177,-223 183,-223 183,-223 375,-223 375,-223 381,-223 387,-229 387,-235 387,-235 387,-294 387,-294 387,-300 381,-306 375,-306\"/>\n<text text-anchor=\"middle\" x=\"279\" y=\"-290.8\" font-family=\"Helvetica,sans-Serif\" font-size=\"14.00\" fill=\"#000000\">mean concave points &lt;= 0.051</text>\n<text text-anchor=\"middle\" x=\"279\" y=\"-275.8\" font-family=\"Helvetica,sans-Serif\" font-size=\"14.00\" fill=\"#000000\">gini = 0.471</text>\n<text text-anchor=\"middle\" x=\"279\" y=\"-260.8\" font-family=\"Helvetica,sans-Serif\" font-size=\"14.00\" fill=\"#000000\">samples = 381</text>\n<text text-anchor=\"middle\" x=\"279\" y=\"-245.8\" font-family=\"Helvetica,sans-Serif\" font-size=\"14.00\" fill=\"#000000\">value = [145, 236]</text>\n<text text-anchor=\"middle\" x=\"279\" y=\"-230.8\" font-family=\"Helvetica,sans-Serif\" font-size=\"14.00\" fill=\"#000000\">class = benign</text>\n</g>\n<!-- 1 -->\n<g id=\"node2\" class=\"node\">\n<title>1</title>\n<path fill=\"#44a2e6\" stroke=\"#000000\" d=\"M252.5,-187C252.5,-187 121.5,-187 121.5,-187 115.5,-187 109.5,-181 109.5,-175 109.5,-175 109.5,-116 109.5,-116 109.5,-110 115.5,-104 121.5,-104 121.5,-104 252.5,-104 252.5,-104 258.5,-104 264.5,-110 264.5,-116 264.5,-116 264.5,-175 264.5,-175 264.5,-181 258.5,-187 252.5,-187\"/>\n<text text-anchor=\"middle\" x=\"187\" y=\"-171.8\" font-family=\"Helvetica,sans-Serif\" font-size=\"14.00\" fill=\"#000000\">worst radius &lt;= 16.83</text>\n<text text-anchor=\"middle\" x=\"187\" y=\"-156.8\" font-family=\"Helvetica,sans-Serif\" font-size=\"14.00\" fill=\"#000000\">gini = 0.098</text>\n<text text-anchor=\"middle\" x=\"187\" y=\"-141.8\" font-family=\"Helvetica,sans-Serif\" font-size=\"14.00\" fill=\"#000000\">samples = 233</text>\n<text text-anchor=\"middle\" x=\"187\" y=\"-126.8\" font-family=\"Helvetica,sans-Serif\" font-size=\"14.00\" fill=\"#000000\">value = [12, 221]</text>\n<text text-anchor=\"middle\" x=\"187\" y=\"-111.8\" font-family=\"Helvetica,sans-Serif\" font-size=\"14.00\" fill=\"#000000\">class = benign</text>\n</g>\n<!-- 0&#45;&gt;1 -->\n<g id=\"edge1\" class=\"edge\">\n<title>0&#45;&gt;1</title>\n<path fill=\"none\" stroke=\"#000000\" d=\"M246.8229,-222.8796C239.9296,-213.9633 232.5798,-204.4565 225.4761,-195.268\"/>\n<polygon fill=\"#000000\" stroke=\"#000000\" points=\"228.1999,-193.0687 219.3145,-187.2981 222.6619,-197.3502 228.1999,-193.0687\"/>\n<text text-anchor=\"middle\" x=\"216.1413\" y=\"-208.3959\" font-family=\"Helvetica,sans-Serif\" font-size=\"14.00\" fill=\"#000000\">True</text>\n</g>\n<!-- 4 -->\n<g id=\"node5\" class=\"node\">\n<title>4</title>\n<path fill=\"#e88f4f\" stroke=\"#000000\" d=\"M447,-187C447,-187 295,-187 295,-187 289,-187 283,-181 283,-175 283,-175 283,-116 283,-116 283,-110 289,-104 295,-104 295,-104 447,-104 447,-104 453,-104 459,-110 459,-116 459,-116 459,-175 459,-175 459,-181 453,-187 447,-187\"/>\n<text text-anchor=\"middle\" x=\"371\" y=\"-171.8\" font-family=\"Helvetica,sans-Serif\" font-size=\"14.00\" fill=\"#000000\">worst perimeter &lt;= 90.38</text>\n<text text-anchor=\"middle\" x=\"371\" y=\"-156.8\" font-family=\"Helvetica,sans-Serif\" font-size=\"14.00\" fill=\"#000000\">gini = 0.182</text>\n<text text-anchor=\"middle\" x=\"371\" y=\"-141.8\" font-family=\"Helvetica,sans-Serif\" font-size=\"14.00\" fill=\"#000000\">samples = 148</text>\n<text text-anchor=\"middle\" x=\"371\" y=\"-126.8\" font-family=\"Helvetica,sans-Serif\" font-size=\"14.00\" fill=\"#000000\">value = [133, 15]</text>\n<text text-anchor=\"middle\" x=\"371\" y=\"-111.8\" font-family=\"Helvetica,sans-Serif\" font-size=\"14.00\" fill=\"#000000\">class = malignant</text>\n</g>\n<!-- 0&#45;&gt;4 -->\n<g id=\"edge4\" class=\"edge\">\n<title>0&#45;&gt;4</title>\n<path fill=\"none\" stroke=\"#000000\" d=\"M311.1771,-222.8796C318.0704,-213.9633 325.4202,-204.4565 332.5239,-195.268\"/>\n<polygon fill=\"#000000\" stroke=\"#000000\" points=\"335.3381,-197.3502 338.6855,-187.2981 329.8001,-193.0687 335.3381,-197.3502\"/>\n<text text-anchor=\"middle\" x=\"341.8587\" y=\"-208.3959\" font-family=\"Helvetica,sans-Serif\" font-size=\"14.00\" fill=\"#000000\">False</text>\n</g>\n<!-- 2 -->\n<g id=\"node3\" class=\"node\">\n<title>2</title>\n<path fill=\"#3e9fe6\" stroke=\"#000000\" d=\"M104,-68C104,-68 12,-68 12,-68 6,-68 0,-62 0,-56 0,-56 0,-12 0,-12 0,-6 6,0 12,0 12,0 104,0 104,0 110,0 116,-6 116,-12 116,-12 116,-56 116,-56 116,-62 110,-68 104,-68\"/>\n<text text-anchor=\"middle\" x=\"58\" y=\"-52.8\" font-family=\"Helvetica,sans-Serif\" font-size=\"14.00\" fill=\"#000000\">gini = 0.045</text>\n<text text-anchor=\"middle\" x=\"58\" y=\"-37.8\" font-family=\"Helvetica,sans-Serif\" font-size=\"14.00\" fill=\"#000000\">samples = 219</text>\n<text text-anchor=\"middle\" x=\"58\" y=\"-22.8\" font-family=\"Helvetica,sans-Serif\" font-size=\"14.00\" fill=\"#000000\">value = [5, 214]</text>\n<text text-anchor=\"middle\" x=\"58\" y=\"-7.8\" font-family=\"Helvetica,sans-Serif\" font-size=\"14.00\" fill=\"#000000\">class = benign</text>\n</g>\n<!-- 1&#45;&gt;2 -->\n<g id=\"edge2\" class=\"edge\">\n<title>1&#45;&gt;2</title>\n<path fill=\"none\" stroke=\"#000000\" d=\"M138.9652,-103.9815C128.013,-94.5151 116.3821,-84.462 105.4544,-75.0168\"/>\n<polygon fill=\"#000000\" stroke=\"#000000\" points=\"107.4957,-72.155 97.6414,-68.2637 102.9182,-77.4509 107.4957,-72.155\"/>\n</g>\n<!-- 3 -->\n<g id=\"node4\" class=\"node\">\n<title>3</title>\n<path fill=\"#ffffff\" stroke=\"#000000\" d=\"M251.5,-68C251.5,-68 146.5,-68 146.5,-68 140.5,-68 134.5,-62 134.5,-56 134.5,-56 134.5,-12 134.5,-12 134.5,-6 140.5,0 146.5,0 146.5,0 251.5,0 251.5,0 257.5,0 263.5,-6 263.5,-12 263.5,-12 263.5,-56 263.5,-56 263.5,-62 257.5,-68 251.5,-68\"/>\n<text text-anchor=\"middle\" x=\"199\" y=\"-52.8\" font-family=\"Helvetica,sans-Serif\" font-size=\"14.00\" fill=\"#000000\">gini = 0.5</text>\n<text text-anchor=\"middle\" x=\"199\" y=\"-37.8\" font-family=\"Helvetica,sans-Serif\" font-size=\"14.00\" fill=\"#000000\">samples = 14</text>\n<text text-anchor=\"middle\" x=\"199\" y=\"-22.8\" font-family=\"Helvetica,sans-Serif\" font-size=\"14.00\" fill=\"#000000\">value = [7, 7]</text>\n<text text-anchor=\"middle\" x=\"199\" y=\"-7.8\" font-family=\"Helvetica,sans-Serif\" font-size=\"14.00\" fill=\"#000000\">class = malignant</text>\n</g>\n<!-- 1&#45;&gt;3 -->\n<g id=\"edge3\" class=\"edge\">\n<title>1&#45;&gt;3</title>\n<path fill=\"none\" stroke=\"#000000\" d=\"M191.4684,-103.9815C192.3685,-95.618 193.3179,-86.7965 194.2279,-78.3409\"/>\n<polygon fill=\"#000000\" stroke=\"#000000\" points=\"197.7222,-78.5808 195.3124,-68.2637 190.7624,-77.8317 197.7222,-78.5808\"/>\n</g>\n<!-- 5 -->\n<g id=\"node6\" class=\"node\">\n<title>5</title>\n<path fill=\"#55abe9\" stroke=\"#000000\" d=\"M403,-68C403,-68 317,-68 317,-68 311,-68 305,-62 305,-56 305,-56 305,-12 305,-12 305,-6 311,0 317,0 317,0 403,0 403,0 409,0 415,-6 415,-12 415,-12 415,-56 415,-56 415,-62 409,-68 403,-68\"/>\n<text text-anchor=\"middle\" x=\"360\" y=\"-52.8\" font-family=\"Helvetica,sans-Serif\" font-size=\"14.00\" fill=\"#000000\">gini = 0.219</text>\n<text text-anchor=\"middle\" x=\"360\" y=\"-37.8\" font-family=\"Helvetica,sans-Serif\" font-size=\"14.00\" fill=\"#000000\">samples = 8</text>\n<text text-anchor=\"middle\" x=\"360\" y=\"-22.8\" font-family=\"Helvetica,sans-Serif\" font-size=\"14.00\" fill=\"#000000\">value = [1, 7]</text>\n<text text-anchor=\"middle\" x=\"360\" y=\"-7.8\" font-family=\"Helvetica,sans-Serif\" font-size=\"14.00\" fill=\"#000000\">class = benign</text>\n</g>\n<!-- 4&#45;&gt;5 -->\n<g id=\"edge5\" class=\"edge\">\n<title>4&#45;&gt;5</title>\n<path fill=\"none\" stroke=\"#000000\" d=\"M366.904,-103.9815C366.0789,-95.618 365.2086,-86.7965 364.3744,-78.3409\"/>\n<polygon fill=\"#000000\" stroke=\"#000000\" points=\"367.8452,-77.8717 363.3803,-68.2637 360.8791,-78.559 367.8452,-77.8717\"/>\n</g>\n<!-- 6 -->\n<g id=\"node7\" class=\"node\">\n<title>6</title>\n<path fill=\"#e78945\" stroke=\"#000000\" d=\"M550.5,-68C550.5,-68 445.5,-68 445.5,-68 439.5,-68 433.5,-62 433.5,-56 433.5,-56 433.5,-12 433.5,-12 433.5,-6 439.5,0 445.5,0 445.5,0 550.5,0 550.5,0 556.5,0 562.5,-6 562.5,-12 562.5,-12 562.5,-56 562.5,-56 562.5,-62 556.5,-68 550.5,-68\"/>\n<text text-anchor=\"middle\" x=\"498\" y=\"-52.8\" font-family=\"Helvetica,sans-Serif\" font-size=\"14.00\" fill=\"#000000\">gini = 0.108</text>\n<text text-anchor=\"middle\" x=\"498\" y=\"-37.8\" font-family=\"Helvetica,sans-Serif\" font-size=\"14.00\" fill=\"#000000\">samples = 140</text>\n<text text-anchor=\"middle\" x=\"498\" y=\"-22.8\" font-family=\"Helvetica,sans-Serif\" font-size=\"14.00\" fill=\"#000000\">value = [132, 8]</text>\n<text text-anchor=\"middle\" x=\"498\" y=\"-7.8\" font-family=\"Helvetica,sans-Serif\" font-size=\"14.00\" fill=\"#000000\">class = malignant</text>\n</g>\n<!-- 4&#45;&gt;6 -->\n<g id=\"edge6\" class=\"edge\">\n<title>4&#45;&gt;6</title>\n<path fill=\"none\" stroke=\"#000000\" d=\"M418.2901,-103.9815C429.0725,-94.5151 440.523,-84.462 451.2813,-75.0168\"/>\n<polygon fill=\"#000000\" stroke=\"#000000\" points=\"453.7676,-77.4915 458.9732,-68.2637 449.1493,-72.2311 453.7676,-77.4915\"/>\n</g>\n</g>\n</svg>\n"
          },
          "metadata": {
            "tags": []
          },
          "execution_count": 330
        }
      ]
    },
    {
      "cell_type": "code",
      "metadata": {
        "colab": {
          "base_uri": "https://localhost:8080/"
        },
        "id": "ZkepYfLGryVy",
        "outputId": "a3b14ee9-43c8-4743-a857-f3979857894b"
      },
      "source": [
        "#Calculate Accuracy: correct predictions / total number of data points\n",
        "score = tree_clf.score(X_test, y_test)\n",
        "print(\"Score of cancer dataset with Decision tree model: \", score)"
      ],
      "execution_count": null,
      "outputs": [
        {
          "output_type": "stream",
          "text": [
            "Score of cancer dataset with Decision tree model:  0.925531914893617\n"
          ],
          "name": "stdout"
        }
      ]
    },
    {
      "cell_type": "code",
      "metadata": {
        "colab": {
          "base_uri": "https://localhost:8080/"
        },
        "id": "wcFhLkZYy4Vv",
        "outputId": "dd65f1f4-cc05-4b64-9d9f-803450b41b16"
      },
      "source": [
        "print(\"Cancer Figs generated in: \", IMAGES_PATH)"
      ],
      "execution_count": null,
      "outputs": [
        {
          "output_type": "stream",
          "text": [
            "Cancer Figs generated in:  ./images/decision_trees\n"
          ],
          "name": "stdout"
        }
      ]
    },
    {
      "cell_type": "code",
      "metadata": {
        "colab": {
          "base_uri": "https://localhost:8080/"
        },
        "id": "S_VqLEXPx0TY",
        "outputId": "01fe33ef-a28a-4ef6-936f-fa9f36325403"
      },
      "source": [
        "#Use logisticRegression\n",
        "model, j = batchGradientDescent(X_train, y_train, 0.5, 0.05, 1000, 0.0001)\n",
        "print('Logistic Regression Batch Gradient model B vector: ')\n",
        "print(model)\n",
        "print('Logistic Regression Batch Gradient model iterations: ', j)"
      ],
      "execution_count": null,
      "outputs": [
        {
          "output_type": "stream",
          "text": [
            "Logistic Regression Batch Gradient model B vector: \n",
            "[[ 5.19002538e-03]\n",
            " [ 3.94178949e-02]\n",
            " [ 5.06840375e-02]\n",
            " [ 2.26078950e-01]\n",
            " [ 7.00409666e-02]\n",
            " [ 3.45919117e-04]\n",
            " [-2.60422128e-04]\n",
            " [-8.41090749e-04]\n",
            " [-3.52188473e-04]\n",
            " [ 6.43102505e-04]\n",
            " [ 2.80234589e-04]\n",
            " [ 3.41397454e-05]\n",
            " [ 3.59657601e-03]\n",
            " [-2.14427130e-03]\n",
            " [-1.13606862e-01]\n",
            " [ 1.54041619e-05]\n",
            " [-8.49730103e-05]\n",
            " [-1.33610922e-04]\n",
            " [-2.07638584e-05]\n",
            " [ 4.81898621e-05]\n",
            " [ 1.43900677e-06]\n",
            " [ 4.19910129e-02]\n",
            " [ 6.32815497e-02]\n",
            " [ 2.29523014e-01]\n",
            " [-1.08205178e-01]\n",
            " [ 4.16043894e-04]\n",
            " [-1.03349404e-03]\n",
            " [-1.83982333e-03]\n",
            " [-4.37866008e-04]\n",
            " [ 7.98218887e-04]\n",
            " [ 2.44795290e-04]]\n",
            "Logistic Regression Batch Gradient model iterations:  1000\n"
          ],
          "name": "stdout"
        }
      ]
    },
    {
      "cell_type": "code",
      "metadata": {
        "colab": {
          "base_uri": "https://localhost:8080/"
        },
        "id": "jBdNXaz2x2Ga",
        "outputId": "8f4a7fa3-f876-415f-f16b-222e1b13f2ad"
      },
      "source": [
        "#Test model\n",
        "\n",
        "#predict values\n",
        "y_predicted_value = X_test.apply(lambda x: predict(model, x), axis=1)\n",
        "#Classify values\n",
        "y_predicted = y_predicted_value.apply(classify)\n",
        "#error\n",
        "print('error of cancer dataset with BatchGradient model: ', error(y_predicted, y_test, y_predicted.size))\n",
        "print('score  of cancer dataset with BatchGradient model: ', 1-error(y_predicted, y_test, y_predicted.size))"
      ],
      "execution_count": null,
      "outputs": [
        {
          "output_type": "stream",
          "text": [
            "error of cancer dataset with BatchGradient model:  0.03723404255319149\n",
            "score  of cancer dataset with BatchGradient model:  0.9627659574468085\n"
          ],
          "name": "stdout"
        }
      ]
    },
    {
      "cell_type": "code",
      "metadata": {
        "colab": {
          "base_uri": "https://localhost:8080/"
        },
        "id": "0onDfrp2BZ_1",
        "outputId": "ebf6bf62-2515-4650-ef83-ec8242b600f7"
      },
      "source": [
        "#Logistic Regression with SciKit-Learn\n",
        "model = LogisticRegression(max_iter=10000)\n",
        "model.fit(X_train, y_train)\n",
        "print(\"coef of cancer dataset with SciKit-Learn model:\", model.coef_)\n",
        "print(\"bias od cancer dataset with SciKit-Learn model:\", model.intercept_)\n",
        "print(\"max_iters of model:\", 10000)"
      ],
      "execution_count": null,
      "outputs": [
        {
          "output_type": "stream",
          "text": [
            "coef of cancer dataset with SciKit-Learn model: [[ 1.09883505  0.28868759 -0.38977797  0.02455496 -0.134225   -0.19903304\n",
            "  -0.49091186 -0.27820563 -0.22557244 -0.03485095 -0.10897378  1.4049082\n",
            "   0.30178012 -0.13988568 -0.02263297  0.02184427 -0.03989813 -0.03396731\n",
            "  -0.04227561  0.00269386  0.07479064 -0.54879772 -0.08845624 -0.00859102\n",
            "  -0.29337887 -0.5721096  -1.20447    -0.47536885 -0.721076   -0.08566283]]\n",
            "bias od cancer dataset with SciKit-Learn model: [32.20575586]\n",
            "max_iters of model: 10000\n"
          ],
          "name": "stdout"
        }
      ]
    },
    {
      "cell_type": "code",
      "metadata": {
        "colab": {
          "base_uri": "https://localhost:8080/"
        },
        "id": "myxiNfqoBeII",
        "outputId": "2f9e5271-d705-4920-8311-b6c5135f4c3b"
      },
      "source": [
        "#error with SciKit-Learn\n",
        "y_hat = model.predict(X_test)\n",
        "print('error of cancer dataset with SciKit-Learn model:', error(y_hat, y_test, y_hat.size))\n",
        "print('Score of cancer dataset SciKit-Learn model:', 1-error(y_hat, y_test, y_hat.size))"
      ],
      "execution_count": null,
      "outputs": [
        {
          "output_type": "stream",
          "text": [
            "error of cancer dataset with SciKit-Learn model: 0.031914893617021274\n",
            "Score of cancer dataset SciKit-Learn model: 0.9680851063829787\n"
          ],
          "name": "stdout"
        }
      ]
    }
  ]
}